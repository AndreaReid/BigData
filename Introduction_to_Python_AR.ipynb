{
  "nbformat": 4,
  "nbformat_minor": 0,
  "metadata": {
    "colab": {
      "provenance": [],
      "toc_visible": true,
      "include_colab_link": true
    },
    "kernelspec": {
      "name": "python3",
      "display_name": "Python 3"
    },
    "language_info": {
      "name": "python"
    }
  },
  "cells": [
    {
      "cell_type": "markdown",
      "metadata": {
        "id": "view-in-github",
        "colab_type": "text"
      },
      "source": [
        "<a href=\"https://colab.research.google.com/github/AndreaReid/BigData/blob/main/Introduction_to_Python_AR.ipynb\" target=\"_parent\"><img src=\"https://colab.research.google.com/assets/colab-badge.svg\" alt=\"Open In Colab\"/></a>"
      ]
    },
    {
      "cell_type": "markdown",
      "source": [
        "# **1. Introduction to Google Colab**"
      ],
      "metadata": {
        "id": "eiOZ4fn7dhQv"
      }
    },
    {
      "cell_type": "markdown",
      "source": [
        "** Adapted from original notebook [Overview of Colaboratory Features](https://colab.research.google.com/notebooks/basic_features_overview.ipynb)\n",
        "\n"
      ],
      "metadata": {
        "id": "T9lowDfpd4r2"
      }
    },
    {
      "cell_type": "markdown",
      "source": [
        "## Cells\n",
        "A notebook is a list of cells. Cells contain either explanatory text or executable code and its output. Click a cell to select it."
      ],
      "metadata": {
        "id": "klSFWjpndcz-"
      }
    },
    {
      "cell_type": "markdown",
      "source": [
        "### Code cells\n",
        "Below is a **code cell**. Once the toolbar button indicates CONNECTED, click in the cell to select it and execute the contents in the following ways:\n",
        "\n",
        "* Click the **Play icon** in the left gutter of the cell;\n",
        "* Type **Cmd/Ctrl+Enter** to run the cell in place;\n",
        "* Type **Shift+Enter** to run the cell and move focus to the next cell (adding one if none exists); or\n",
        "* Type **Alt+Enter** to run the cell and insert a new code cell immediately below it.\n",
        "\n",
        "There are additional options for running some or all cells in the **Runtime** menu."
      ],
      "metadata": {
        "id": "VbJrbgqHdpVO"
      }
    },
    {
      "cell_type": "code",
      "source": [
        "a = 10\n",
        "a"
      ],
      "metadata": {
        "id": "hx7BuuIXdtIP"
      },
      "execution_count": null,
      "outputs": []
    },
    {
      "cell_type": "markdown",
      "source": [
        "### Text cells\n",
        "This is a **text cell**. You can **double-click** to edit this cell. Text cells\n",
        "use markdown syntax. To learn more, see our [markdown\n",
        "guide](/notebooks/markdown_guide.ipynb)."
      ],
      "metadata": {
        "id": "fCovsD3sduUk"
      }
    },
    {
      "cell_type": "markdown",
      "source": [
        "### Adding and moving cells\n",
        "You can add new cells by using the **+ CODE** and **+ TEXT** buttons that show when you hover between cells. These buttons are also in the toolbar above the notebook where they can be used to add a cell below the currently selected cell.\n",
        "\n",
        "You can move a cell by selecting it and clicking **Cell Up** or **Cell Down** in the top toolbar. \n",
        "\n",
        "Consecutive cells can be selected by \"lasso selection\" by dragging from outside one cell and through the group.  Non-adjacent cells can be selected concurrently by clicking one and then holding down Ctrl while clicking another.  Similarly, using Shift instead of Ctrl will select all intermediate cells."
      ],
      "metadata": {
        "id": "BQMAmTETd3XD"
      }
    },
    {
      "cell_type": "markdown",
      "source": [
        "## Working with python in Google Colab\n",
        "Colaboratory is built on top of [Jupyter Notebook](https://jupyter.org/). Below are some examples of convenience functions provided."
      ],
      "metadata": {
        "id": "Bm_-TPSnel8Y"
      }
    },
    {
      "cell_type": "markdown",
      "source": [
        "Long running python processes can be interrupted. Run the following cell and select Runtime -> Interrupt execution (hotkey: Cmd/Ctrl-M I) to stop execution."
      ],
      "metadata": {
        "id": "Xn98mOgWetzO"
      }
    },
    {
      "cell_type": "code",
      "source": [
        "import time\n",
        "print(\"Sleeping\")\n",
        "time.sleep(30) # sleep for a while; interrupt me!\n",
        "print(\"Done Sleeping\")"
      ],
      "metadata": {
        "id": "JF8LtDGWeudU"
      },
      "execution_count": null,
      "outputs": []
    },
    {
      "cell_type": "markdown",
      "source": [
        "\n",
        "\n",
        "---\n",
        "\n",
        "\n",
        "\n",
        "---\n",
        "\n"
      ],
      "metadata": {
        "id": "7lUPFiepe1l0"
      }
    },
    {
      "cell_type": "markdown",
      "source": [
        "# **2. Introduction to Python Programming Language**"
      ],
      "metadata": {
        "id": "rdTeVUPnFP_k"
      }
    },
    {
      "cell_type": "markdown",
      "source": [
        "This tutorial offers a basic introduction to Python syntax, variable assignment, and basic operations.\n",
        "\n",
        "\n",
        "\n",
        "Just for fun, try reading over the code below and predicting what it's going to do when run. (If you have no idea, that's fine!)\n",
        "\n",
        "\n",
        "\n",
        "Python is a high-level, dynamic programming language. Python code is often said to be almost like **pseudocode**, since it allows you to express very powerful ideas in very few lines of code while being very readable. \n",
        "\n",
        "```\n",
        "The latest python version can be found here: https://www.python.org/downloads/\n",
        "\n",
        "```\n",
        "\n",
        "\n",
        "\n",
        "There are currently two different supported versions of Python, 2.7 and 3.7+. Somewhat confusingly, Python 3.0 introduced many backwards-incompatible changes to the language, so code written for 2.7 may not work under 3.7+ and vice versa. For this laboratory all code will use Python 3.7+. The latest python version can be found here: https://www.python.org/downloads/\n"
      ],
      "metadata": {
        "id": "1pUdXMVeF5sY"
      }
    },
    {
      "cell_type": "markdown",
      "source": [
        "*To see what Python version is currently being used in Colab, execute the following command:*"
      ],
      "metadata": {
        "id": "BcwCTb8iN39D"
      }
    },
    {
      "cell_type": "code",
      "source": [
        "!python --version"
      ],
      "metadata": {
        "id": "GknDqCHHxSFy",
        "colab": {
          "base_uri": "https://localhost:8080/"
        },
        "outputId": "2548615c-6d1c-44c2-979c-ac828632e5ab"
      },
      "execution_count": 1,
      "outputs": [
        {
          "output_type": "stream",
          "name": "stdout",
          "text": [
            "Python 3.8.16\n"
          ]
        }
      ]
    },
    {
      "cell_type": "markdown",
      "source": [
        "## **Indentation**\n",
        "Python uses indentation to indicate parts of the code that needs to be executed together. Both tabs and spaces.\n",
        "\n",
        "Do not mix tab indentation with space indentation.\n",
        "\n"
      ],
      "metadata": {
        "id": "XaGmcJJ04jzi"
      }
    },
    {
      "cell_type": "code",
      "source": [
        "a = 1\n",
        "if a == 1:\n",
        "    # Indented ... and notice how Jupyter Notebook/ or colab/ or any python IDE automatically indented for you\n",
        "    print(\"a is 1\")"
      ],
      "metadata": {
        "id": "WK9KXCb036zD"
      },
      "execution_count": null,
      "outputs": []
    },
    {
      "cell_type": "markdown",
      "source": [
        "## **Variables and Types**\n",
        "Python is not \"statically-typed\". This means you do not have to declare all your variables before you can use them. You can create new variables whenever you want. \n",
        "\n",
        "Lets go through the core types of variables:"
      ],
      "metadata": {
        "id": "jLyesbj-3li7"
      }
    },
    {
      "cell_type": "markdown",
      "source": [
        "\n",
        "```\n",
        "**Syntax**\n",
        "\n",
        "\n",
        "*   To assign a variable with a specific value, use `=`\n",
        "\n",
        "      *  A variable name must start with a letter or the underscore character.\n",
        "      *  A variable name cannot start with a number.\n",
        "      *  A variable name can only contain alpha-numeric characters and underscores (A-z, 0-9, and _ ).\n",
        "      *  Variable names are case-sensitive (name, Name and NAME are three different variables).\n",
        "      *  The reserved words(keywords) cannot be used naming the variable.\n",
        "\n",
        "\n",
        "*   To test whether a variable has a specific value, use the boolean operators:\n",
        "        equal: `==`\n",
        "        not equal: `!=`\n",
        "        greater-than: `>`\n",
        "        less-than:\n",
        "\n",
        "\n",
        "*   comments: You can also add helpful comments to your code with the `#` symbol. Any line starting with a `#` is not executed. \n",
        "```\n",
        "\n",
        "\n",
        "\n"
      ],
      "metadata": {
        "id": "3lHRdqdb5XNh"
      }
    },
    {
      "cell_type": "markdown",
      "source": [
        "### **1. Numeric** \n",
        "\n",
        "Common numeric data types supported by python incude integers and floating point numbers. Integers are whole numbers (e.g. 9), while floats are fractional (e.g. 9.321). You can also convert integers to floats, and vice versa, but you need to be aware of the risks of doing so."
      ],
      "metadata": {
        "id": "Ir0ay_e658Va"
      }
    },
    {
      "cell_type": "markdown",
      "source": [
        "\n",
        "**Follow along with the code below.**\n",
        "\n",
        "*Note: A green arrow to the left of the code cell indicates that the cell has been run successfully.*"
      ],
      "metadata": {
        "id": "Lwedb0X7EI4w"
      }
    },
    {
      "cell_type": "code",
      "source": [
        "# Create a variable named 'intnum' and assign it the integer value 7\n",
        "intnum = 7"
      ],
      "metadata": {
        "id": "CJ2A6g7u372e"
      },
      "execution_count": 1,
      "outputs": []
    },
    {
      "cell_type": "code",
      "source": [
        "# Check the data type using type()\n",
        "type(intnum)"
      ],
      "metadata": {
        "colab": {
          "base_uri": "https://localhost:8080/"
        },
        "id": "hBFKj5Z8Defr",
        "outputId": "674b78a1-7fcb-4aad-8001-4cbf00130bca"
      },
      "execution_count": 2,
      "outputs": [
        {
          "output_type": "execute_result",
          "data": {
            "text/plain": [
              "int"
            ]
          },
          "metadata": {},
          "execution_count": 2
        }
      ]
    },
    {
      "cell_type": "markdown",
      "source": [
        "The type() function is used to display the data type of a variable. It is commonly used for debugging purposes."
      ],
      "metadata": {
        "id": "cw9XgbYvFtNz"
      }
    },
    {
      "cell_type": "code",
      "source": [
        "# Create a variable named 'floatnum' and assign it the floating point value 7.4\n",
        "floatnum = 7.4\n",
        "type(floatnum)"
      ],
      "metadata": {
        "id": "5EtmVidW38Ih",
        "colab": {
          "base_uri": "https://localhost:8080/"
        },
        "outputId": "1f3a05c9-2efb-4777-8574-54b29d203e88"
      },
      "execution_count": 12,
      "outputs": [
        {
          "output_type": "execute_result",
          "data": {
            "text/plain": [
              "float"
            ]
          },
          "metadata": {},
          "execution_count": 12
        }
      ]
    },
    {
      "cell_type": "code",
      "source": [
        "# Or you could convert the integer you already have\n",
        "myfloat = float(intnum)\n",
        "\n",
        "# Check the new data type\n",
        "type(myfloat)"
      ],
      "metadata": {
        "colab": {
          "base_uri": "https://localhost:8080/"
        },
        "id": "KmGY9WyKDYVt",
        "outputId": "851a6444-bddd-4ddb-a18a-1acdfad31ab0"
      },
      "execution_count": 9,
      "outputs": [
        {
          "output_type": "execute_result",
          "data": {
            "text/plain": [
              "float"
            ]
          },
          "metadata": {},
          "execution_count": 9
        }
      ]
    },
    {
      "cell_type": "code",
      "source": [
        "# Now see what happens when you convert a float to an int\n",
        "intnum = int(7.3)\n",
        "intnum"
      ],
      "metadata": {
        "colab": {
          "base_uri": "https://localhost:8080/"
        },
        "id": "17-CaILt38X7",
        "outputId": "3653d77f-f7cb-42e3-c51d-c5509742e85c"
      },
      "execution_count": 11,
      "outputs": [
        {
          "output_type": "execute_result",
          "data": {
            "text/plain": [
              "7"
            ]
          },
          "metadata": {},
          "execution_count": 11
        }
      ]
    },
    {
      "cell_type": "markdown",
      "source": [
        "We can use print() to display the value of a variable on the screen. "
      ],
      "metadata": {
        "id": "2IvmClm3GGPk"
      }
    },
    {
      "cell_type": "code",
      "source": [
        "intnum = 7\n",
        "floatnum = 7.4\n",
        "\n",
        "print(intnum)\n",
        "print(floatnum)"
      ],
      "metadata": {
        "colab": {
          "base_uri": "https://localhost:8080/"
        },
        "id": "e2UkGCikGMnT",
        "outputId": "1d63f505-814f-4fb9-ea96-1e21723f9279"
      },
      "execution_count": 16,
      "outputs": [
        {
          "output_type": "stream",
          "name": "stdout",
          "text": [
            "7\n",
            "7.4\n"
          ]
        }
      ]
    },
    {
      "cell_type": "markdown",
      "source": [
        "This is especially useful to display multiple things at once. Note that when using print(), text must be inside quotation marks."
      ],
      "metadata": {
        "id": "gyhmhl15HDXZ"
      }
    },
    {
      "cell_type": "code",
      "source": [
        "intnum = 7\n",
        "floatnum = 7.4\n",
        "\n",
        "print(intnum, \"is an integer and\",floatnum,\"is a floating point number.\")"
      ],
      "metadata": {
        "colab": {
          "base_uri": "https://localhost:8080/"
        },
        "id": "S5XGR95aHBMb",
        "outputId": "c5f8fb5e-c9fa-4122-c1aa-e149e720d66d"
      },
      "execution_count": 17,
      "outputs": [
        {
          "output_type": "stream",
          "name": "stdout",
          "text": [
            "7 is an integer and 7.4 is a floating point number.\n"
          ]
        }
      ]
    },
    {
      "cell_type": "markdown",
      "source": [
        "If a variable is assigned a value more than once, it will take the last value assigned."
      ],
      "metadata": {
        "id": "OXskcHDdHsiI"
      }
    },
    {
      "cell_type": "code",
      "source": [
        "intnum = 7\n",
        "intnum = 8\n",
        "\n",
        "print(intnum)"
      ],
      "metadata": {
        "colab": {
          "base_uri": "https://localhost:8080/"
        },
        "id": "flpiuuV1H31Z",
        "outputId": "be81bd6d-eb32-4cb9-a8e6-1c863c62a6f8"
      },
      "execution_count": 18,
      "outputs": [
        {
          "output_type": "stream",
          "name": "stdout",
          "text": [
            "8\n"
          ]
        }
      ]
    },
    {
      "cell_type": "markdown",
      "source": [
        "#### **Arithmetic operators**\n",
        "As you would expect, you can use the various mathematical operators with numbers (both integers and floats)."
      ],
      "metadata": {
        "id": "NCKoNUnVENjW"
      }
    },
    {
      "cell_type": "code",
      "source": [
        "number = (1 + 2) * 3 / 4.0\n",
        "\n",
        "# Try to predict what the answer will be ... does Python follow order operations hierarchy?\n",
        "print(number)"
      ],
      "metadata": {
        "id": "TxYCYtMODxeC",
        "colab": {
          "base_uri": "https://localhost:8080/"
        },
        "outputId": "3ec3585e-ea14-4e8f-8831-51815cf37043"
      },
      "execution_count": 19,
      "outputs": [
        {
          "output_type": "stream",
          "name": "stdout",
          "text": [
            "2.25\n"
          ]
        }
      ]
    },
    {
      "cell_type": "code",
      "source": [
        "# The modulo (%) returns the integer remainder of a division\n",
        "remainder = 11 % 3\n",
        "print(remainder)"
      ],
      "metadata": {
        "colab": {
          "base_uri": "https://localhost:8080/"
        },
        "id": "HhmPaNVHIP4z",
        "outputId": "965dbee7-1aaa-416a-c9c5-2922774b9e6d"
      },
      "execution_count": 21,
      "outputs": [
        {
          "output_type": "stream",
          "name": "stdout",
          "text": [
            "2\n"
          ]
        }
      ]
    },
    {
      "cell_type": "code",
      "source": [
        "one = 1\n",
        "two = 2\n",
        "three = one + two\n",
        "print(three)"
      ],
      "metadata": {
        "colab": {
          "base_uri": "https://localhost:8080/"
        },
        "id": "VuBDNB2BIYXU",
        "outputId": "26128250-6519-4cd2-c41e-d758948f16ce"
      },
      "execution_count": 23,
      "outputs": [
        {
          "output_type": "stream",
          "name": "stdout",
          "text": [
            "3\n"
          ]
        }
      ]
    },
    {
      "cell_type": "markdown",
      "source": [
        "You can assign values to two variables at the same time."
      ],
      "metadata": {
        "id": "6XC0LHQ9IjLQ"
      }
    },
    {
      "cell_type": "code",
      "source": [
        "a, b = 3, 4\n",
        "print(a, b)"
      ],
      "metadata": {
        "colab": {
          "base_uri": "https://localhost:8080/"
        },
        "id": "BI__JFhIIdTS",
        "outputId": "a4678b43-b11c-48bf-f451-876e5414673f"
      },
      "execution_count": 25,
      "outputs": [
        {
          "output_type": "stream",
          "name": "stdout",
          "text": [
            "3 4\n"
          ]
        }
      ]
    },
    {
      "cell_type": "code",
      "source": [
        "# Two multiplications is equivalent to a power operation\n",
        "squared = 7 ** 2\n",
        "print(squared)"
      ],
      "metadata": {
        "colab": {
          "base_uri": "https://localhost:8080/"
        },
        "id": "ASP0cAXGIh6_",
        "outputId": "a7718fd0-9965-4f1a-80a1-239f89d34b8e"
      },
      "execution_count": 26,
      "outputs": [
        {
          "output_type": "stream",
          "name": "stdout",
          "text": [
            "49\n"
          ]
        }
      ]
    },
    {
      "cell_type": "markdown",
      "source": [
        "###**2. Boleans**\n",
        "Boolean data type is a data type that has one of two possible values which is intended to represent the two truth values of logic: if an expression is True or False."
      ],
      "metadata": {
        "id": "IjZOopaI4xMj"
      }
    },
    {
      "cell_type": "code",
      "source": [
        "print(4 < 7)"
      ],
      "metadata": {
        "id": "aY5V07pN4Ojz",
        "colab": {
          "base_uri": "https://localhost:8080/"
        },
        "outputId": "d1c7a76a-1cb5-4c31-b20c-4e72bf1577e8"
      },
      "execution_count": 27,
      "outputs": [
        {
          "output_type": "stream",
          "name": "stdout",
          "text": [
            "True\n"
          ]
        }
      ]
    },
    {
      "cell_type": "code",
      "source": [
        "a = 6\n",
        "print(a > 4)"
      ],
      "metadata": {
        "colab": {
          "base_uri": "https://localhost:8080/"
        },
        "id": "uqE5d3YvI5zq",
        "outputId": "beaf73db-4008-4c88-9ce1-8d576a890fab"
      },
      "execution_count": 28,
      "outputs": [
        {
          "output_type": "stream",
          "name": "stdout",
          "text": [
            "True\n"
          ]
        }
      ]
    },
    {
      "cell_type": "markdown",
      "source": [
        "### **3. Strings**\n",
        "Strings are the Python term for text. You can define these in either single or double quotes.\n",
        "\n"
      ],
      "metadata": {
        "id": "Uu5_CLPl6nn-"
      }
    },
    {
      "cell_type": "code",
      "source": [
        "mystring = \"Hello Class and Happy Tuesday!\"\n",
        "print(mystring)"
      ],
      "metadata": {
        "colab": {
          "base_uri": "https://localhost:8080/"
        },
        "id": "EVeyeSD438lR",
        "outputId": "3e1af24a-e30e-43f7-919d-b8dffb9b3d49"
      },
      "execution_count": 30,
      "outputs": [
        {
          "output_type": "stream",
          "name": "stdout",
          "text": [
            "Hello Class and Happy Tuesday!\n"
          ]
        }
      ]
    },
    {
      "cell_type": "markdown",
      "source": [
        "You can also apply simple operators to your string variables, or assign multiple variables simultaneously.\n"
      ],
      "metadata": {
        "id": "Bcs4I2ky6yTy"
      }
    },
    {
      "cell_type": "code",
      "source": [
        "# In this example, we concatenate two string variables to form a new variable\n",
        "hello = \"Hello,\"\n",
        "world = \"World!\"\n",
        "helloworld = hello + \" \" + world\n",
        "print(helloworld)\n"
      ],
      "metadata": {
        "id": "tNgxYzdg60RD",
        "colab": {
          "base_uri": "https://localhost:8080/"
        },
        "outputId": "d1b82389-f1a2-45ba-9e77-b5ce4c09f349"
      },
      "execution_count": 39,
      "outputs": [
        {
          "output_type": "stream",
          "name": "stdout",
          "text": [
            "Hello, World!\n"
          ]
        }
      ]
    },
    {
      "cell_type": "markdown",
      "source": [
        "Note, though, that mixing variable types causes problems."
      ],
      "metadata": {
        "id": "Kv8fmSuV63iZ"
      }
    },
    {
      "cell_type": "code",
      "source": [
        "one = 1\n",
        "two = 2\n",
        "print(one + two + hello)\n",
        "type()"
      ],
      "metadata": {
        "id": "zcvqcDWL674T",
        "colab": {
          "base_uri": "https://localhost:8080/",
          "height": 218
        },
        "outputId": "4a5d60b6-c642-443f-9449-60ae7abd7ace"
      },
      "execution_count": 33,
      "outputs": [
        {
          "output_type": "error",
          "ename": "TypeError",
          "evalue": "ignored",
          "traceback": [
            "\u001b[0;31m---------------------------------------------------------------------------\u001b[0m",
            "\u001b[0;31mTypeError\u001b[0m                                 Traceback (most recent call last)",
            "\u001b[0;32m<ipython-input-33-fb56f8bfab72>\u001b[0m in \u001b[0;36m<module>\u001b[0;34m\u001b[0m\n\u001b[1;32m      1\u001b[0m \u001b[0mone\u001b[0m \u001b[0;34m=\u001b[0m \u001b[0;36m1\u001b[0m\u001b[0;34m\u001b[0m\u001b[0;34m\u001b[0m\u001b[0m\n\u001b[1;32m      2\u001b[0m \u001b[0mtwo\u001b[0m \u001b[0;34m=\u001b[0m \u001b[0;36m2\u001b[0m\u001b[0;34m\u001b[0m\u001b[0;34m\u001b[0m\u001b[0m\n\u001b[0;32m----> 3\u001b[0;31m \u001b[0mprint\u001b[0m\u001b[0;34m(\u001b[0m\u001b[0mone\u001b[0m \u001b[0;34m+\u001b[0m \u001b[0mtwo\u001b[0m \u001b[0;34m+\u001b[0m \u001b[0mhello\u001b[0m\u001b[0;34m)\u001b[0m\u001b[0;34m\u001b[0m\u001b[0;34m\u001b[0m\u001b[0m\n\u001b[0m\u001b[1;32m      4\u001b[0m \u001b[0mtype\u001b[0m\u001b[0;34m(\u001b[0m\u001b[0;34m)\u001b[0m\u001b[0;34m\u001b[0m\u001b[0;34m\u001b[0m\u001b[0m\n",
            "\u001b[0;31mTypeError\u001b[0m: unsupported operand type(s) for +: 'int' and 'str'"
          ]
        }
      ]
    },
    {
      "cell_type": "markdown",
      "source": [
        "Python will throw an error when you make a mistake like this and the error will give you as much detail as it can about what just happened. This is extremely useful when you're attempting to \"debug\" your code.\n",
        "\n",
        "In this case, you're told: `TypeError: unsupported operand type(s) for +: 'int'` `and 'str'`\n",
        "\n",
        "And the context should make it clear that you tried to combine two integer variables with a string.\n",
        "\n",
        "You can also combine strings with placeholders for variables:\n",
        "\n"
      ],
      "metadata": {
        "id": "qMFqsZHY6_ox"
      }
    },
    {
      "cell_type": "code",
      "source": [
        "print(one, two, hello)"
      ],
      "metadata": {
        "id": "SjJ7iAZ8BpT8",
        "colab": {
          "base_uri": "https://localhost:8080/"
        },
        "outputId": "5a03f909-0af3-4f91-824c-efbbd2fe14c0"
      },
      "execution_count": 34,
      "outputs": [
        {
          "output_type": "stream",
          "name": "stdout",
          "text": [
            "1 2 Hello,\n"
          ]
        }
      ]
    },
    {
      "cell_type": "markdown",
      "source": [
        "Other ways to format your print() command:"
      ],
      "metadata": {
        "id": "QXzyhdZ-J4xp"
      }
    },
    {
      "cell_type": "code",
      "source": [
        "my_numb = 3\n",
        "print(\"My lucky number is: {}\".format(my_numb))"
      ],
      "metadata": {
        "id": "dVwJVQaLJXs3",
        "colab": {
          "base_uri": "https://localhost:8080/"
        },
        "outputId": "22c41349-3e73-4f75-ad89-e4ce19c602df"
      },
      "execution_count": 40,
      "outputs": [
        {
          "output_type": "stream",
          "name": "stdout",
          "text": [
            "My lucky number is: 3\n"
          ]
        }
      ]
    },
    {
      "cell_type": "markdown",
      "source": [
        "You can use len() to get the length of your variable (e.g., number of characters in a string)"
      ],
      "metadata": {
        "id": "o74dS1G8KL1z"
      }
    },
    {
      "cell_type": "code",
      "source": [
        "a_string = \"Hello, World!\"\n",
        "len(a_string)"
      ],
      "metadata": {
        "id": "StaU2KR9Jccc",
        "colab": {
          "base_uri": "https://localhost:8080/"
        },
        "outputId": "7ce776e5-afc3-418f-acff-1384ebc64c64"
      },
      "execution_count": 37,
      "outputs": [
        {
          "output_type": "execute_result",
          "data": {
            "text/plain": [
              "13"
            ]
          },
          "metadata": {},
          "execution_count": 37
        }
      ]
    },
    {
      "cell_type": "code",
      "source": [
        "print(\"String length: {}\".format(len(a_string)))"
      ],
      "metadata": {
        "colab": {
          "base_uri": "https://localhost:8080/"
        },
        "id": "paXbUURDWB5K",
        "outputId": "a716a6ed-ae03-4733-d12e-3948b9d0dd86"
      },
      "execution_count": 38,
      "outputs": [
        {
          "output_type": "stream",
          "name": "stdout",
          "text": [
            "String length: 13\n"
          ]
        }
      ]
    },
    {
      "cell_type": "markdown",
      "source": [
        "Some more string operations:"
      ],
      "metadata": {
        "id": "ePkucMUkMlLT"
      }
    },
    {
      "cell_type": "code",
      "source": [
        "# You've already seen arithmetic concatenations of strings\n",
        "helloworld = \"Hello,\" + \" \" + \"World!\"\n",
        "print(helloworld)"
      ],
      "metadata": {
        "colab": {
          "base_uri": "https://localhost:8080/"
        },
        "id": "lbF9Jv_0EdRv",
        "outputId": "ab0fe45e-bf75-4eef-fa48-826f71a9184a"
      },
      "execution_count": 41,
      "outputs": [
        {
          "output_type": "stream",
          "name": "stdout",
          "text": [
            "Hello, World!\n"
          ]
        }
      ]
    },
    {
      "cell_type": "code",
      "source": [
        "# You can also multiply strings to form a repeating sequence\n",
        "manyhellos = \"Hello \" * 10\n",
        "print(manyhellos)"
      ],
      "metadata": {
        "colab": {
          "base_uri": "https://localhost:8080/"
        },
        "id": "KlxSkPCgMxNg",
        "outputId": "7d73db28-ce25-4490-ce30-aedadc8f6b8f"
      },
      "execution_count": 42,
      "outputs": [
        {
          "output_type": "stream",
          "name": "stdout",
          "text": [
            "Hello Hello Hello Hello Hello Hello Hello Hello Hello Hello \n"
          ]
        }
      ]
    },
    {
      "cell_type": "code",
      "source": [
        "# But don't get carried away. Not everything will work.\n",
        "nohellos = \"Hello \" / 10\n",
        "print(nohellos)"
      ],
      "metadata": {
        "colab": {
          "base_uri": "https://localhost:8080/",
          "height": 201
        },
        "id": "gG2vwnlVM2g9",
        "outputId": "786a6b80-bf4a-4566-dea6-9b4f6a351bb1"
      },
      "execution_count": 43,
      "outputs": [
        {
          "output_type": "error",
          "ename": "TypeError",
          "evalue": "ignored",
          "traceback": [
            "\u001b[0;31m---------------------------------------------------------------------------\u001b[0m",
            "\u001b[0;31mTypeError\u001b[0m                                 Traceback (most recent call last)",
            "\u001b[0;32m<ipython-input-43-34d1332ff0d9>\u001b[0m in \u001b[0;36m<module>\u001b[0;34m\u001b[0m\n\u001b[1;32m      1\u001b[0m \u001b[0;31m# But don't get carried away. Not everything will work.\u001b[0m\u001b[0;34m\u001b[0m\u001b[0;34m\u001b[0m\u001b[0;34m\u001b[0m\u001b[0m\n\u001b[0;32m----> 2\u001b[0;31m \u001b[0mnohellos\u001b[0m \u001b[0;34m=\u001b[0m \u001b[0;34m\"Hello \"\u001b[0m \u001b[0;34m/\u001b[0m \u001b[0;36m10\u001b[0m\u001b[0;34m\u001b[0m\u001b[0;34m\u001b[0m\u001b[0m\n\u001b[0m\u001b[1;32m      3\u001b[0m \u001b[0mprint\u001b[0m\u001b[0;34m(\u001b[0m\u001b[0mnohellos\u001b[0m\u001b[0;34m)\u001b[0m\u001b[0;34m\u001b[0m\u001b[0;34m\u001b[0m\u001b[0m\n",
            "\u001b[0;31mTypeError\u001b[0m: unsupported operand type(s) for /: 'str' and 'int'"
          ]
        }
      ]
    },
    {
      "cell_type": "code",
      "source": [
        "# upper() and lower() functions\n",
        "sent = \"The weather is Nice\"\n",
        "sent = sent.lower()\n",
        "sent"
      ],
      "metadata": {
        "id": "Q0rAEd1pE4Vr",
        "colab": {
          "base_uri": "https://localhost:8080/",
          "height": 35
        },
        "outputId": "4ad4fdd8-8439-4ba2-818d-0fac8ebc25bd"
      },
      "execution_count": 80,
      "outputs": [
        {
          "output_type": "execute_result",
          "data": {
            "text/plain": [
              "'the weather is nice'"
            ],
            "application/vnd.google.colaboratory.intrinsic+json": {
              "type": "string"
            }
          },
          "metadata": {},
          "execution_count": 80
        }
      ]
    },
    {
      "cell_type": "code",
      "source": [
        "sent = sent.upper()\n",
        "sent"
      ],
      "metadata": {
        "colab": {
          "base_uri": "https://localhost:8080/",
          "height": 35
        },
        "id": "OhZXhwxvXIZB",
        "outputId": "ad384131-b5ea-498e-8638-82422b8e49c4"
      },
      "execution_count": 81,
      "outputs": [
        {
          "output_type": "execute_result",
          "data": {
            "text/plain": [
              "'THE WEATHER IS NICE'"
            ],
            "application/vnd.google.colaboratory.intrinsic+json": {
              "type": "string"
            }
          },
          "metadata": {},
          "execution_count": 81
        }
      ]
    },
    {
      "cell_type": "code",
      "source": [
        "# you can use a boolean operation for verification\n",
        "print(sent.isupper())"
      ],
      "metadata": {
        "colab": {
          "base_uri": "https://localhost:8080/"
        },
        "id": "qp1qLPX6WyDy",
        "outputId": "674a37ca-5989-4378-f1d6-ca5078398c6f"
      },
      "execution_count": 82,
      "outputs": [
        {
          "output_type": "stream",
          "name": "stdout",
          "text": [
            "True\n"
          ]
        }
      ]
    },
    {
      "cell_type": "code",
      "source": [
        "# or include the entire operation within the print statement\n",
        "print(sent.upper().isupper())"
      ],
      "metadata": {
        "colab": {
          "base_uri": "https://localhost:8080/"
        },
        "id": "7ZOg3lIdXU9R",
        "outputId": "4938ea28-4e64-4cdc-e0ed-822375a3ce92"
      },
      "execution_count": 83,
      "outputs": [
        {
          "output_type": "stream",
          "name": "stdout",
          "text": [
            "True\n"
          ]
        }
      ]
    },
    {
      "cell_type": "code",
      "source": [
        "# print(sent.upper())\n",
        "print(sent.lower())\n",
        "print(sent.lower().isupper())\n",
        "print(len(sent))"
      ],
      "metadata": {
        "colab": {
          "base_uri": "https://localhost:8080/"
        },
        "id": "dxF1OFXwNQ2S",
        "outputId": "94f1b67c-10c5-4f2c-ec21-c43e1d2f82e3"
      },
      "execution_count": 84,
      "outputs": [
        {
          "output_type": "stream",
          "name": "stdout",
          "text": [
            "the weather is nice\n",
            "False\n",
            "19\n"
          ]
        }
      ]
    },
    {
      "cell_type": "markdown",
      "source": [
        "#### Built-in Functions\n",
        "We have already seen some of python's built-in functions (e.g., len()). Here are some other useful examples:"
      ],
      "metadata": {
        "id": "a3qKVkzcOYev"
      }
    },
    {
      "cell_type": "code",
      "source": [
        "# We have already seen some examples: len()\n",
        "len(sent)"
      ],
      "metadata": {
        "id": "Po39kl_dFqBZ",
        "colab": {
          "base_uri": "https://localhost:8080/"
        },
        "outputId": "17bd30cb-e652-4f5f-fef3-09a8de93f0b3"
      },
      "execution_count": 52,
      "outputs": [
        {
          "output_type": "execute_result",
          "data": {
            "text/plain": [
              "19"
            ]
          },
          "metadata": {},
          "execution_count": 52
        }
      ]
    },
    {
      "cell_type": "code",
      "source": [
        "# Access certain characters using their indices\n",
        "sent[0:3] # square brackets are used to extract indices/positions of elements in the string"
      ],
      "metadata": {
        "colab": {
          "base_uri": "https://localhost:8080/",
          "height": 35
        },
        "id": "CC2zU8LtPbim",
        "outputId": "ee404ad4-a902-4496-dc95-41eb81714099"
      },
      "execution_count": 53,
      "outputs": [
        {
          "output_type": "execute_result",
          "data": {
            "text/plain": [
              "'The'"
            ],
            "application/vnd.google.colaboratory.intrinsic+json": {
              "type": "string"
            }
          },
          "metadata": {},
          "execution_count": 53
        }
      ]
    },
    {
      "cell_type": "markdown",
      "source": [
        "This is a good time to note that Python indexing starts from 0 (not 1). So the first element in a list or string will be in position 0. We will go into more detail on indexing in the next section."
      ],
      "metadata": {
        "id": "-nO2gTbmQWW7"
      }
    },
    {
      "cell_type": "code",
      "source": [
        "# return the location of a charactor \n",
        "sent.index(\"i\")"
      ],
      "metadata": {
        "colab": {
          "base_uri": "https://localhost:8080/"
        },
        "id": "zbiYtgWwQDnk",
        "outputId": "23398d64-c108-4fc0-ea18-475f4fd98ff5"
      },
      "execution_count": 57,
      "outputs": [
        {
          "output_type": "execute_result",
          "data": {
            "text/plain": [
              "12"
            ]
          },
          "metadata": {},
          "execution_count": 57
        }
      ]
    },
    {
      "cell_type": "code",
      "source": [
        "# count how many times a character is present\n",
        "sent.count(\"e\")"
      ],
      "metadata": {
        "colab": {
          "base_uri": "https://localhost:8080/"
        },
        "id": "C5AJTwn0SJVr",
        "outputId": "fa9edbc7-d3c7-4b3f-cb69-c55236fb5a4e"
      },
      "execution_count": 58,
      "outputs": [
        {
          "output_type": "execute_result",
          "data": {
            "text/plain": [
              "4"
            ]
          },
          "metadata": {},
          "execution_count": 58
        }
      ]
    },
    {
      "cell_type": "code",
      "source": [
        "# if a character is present more than once, the first position will be returned\n",
        "sent.index(\"e\")"
      ],
      "metadata": {
        "colab": {
          "base_uri": "https://localhost:8080/"
        },
        "id": "8wS5zIOfR01a",
        "outputId": "f782899e-a2a6-4962-be91-67c338b6c590"
      },
      "execution_count": 56,
      "outputs": [
        {
          "output_type": "execute_result",
          "data": {
            "text/plain": [
              "2"
            ]
          },
          "metadata": {},
          "execution_count": 56
        }
      ]
    },
    {
      "cell_type": "code",
      "source": [
        "# find\n",
        "sent.find(\"is\")"
      ],
      "metadata": {
        "colab": {
          "base_uri": "https://localhost:8080/"
        },
        "id": "TmnIx7SuSPlc",
        "outputId": "00d6c41f-5d92-4a5b-b8ee-269e4157851f"
      },
      "execution_count": 60,
      "outputs": [
        {
          "output_type": "execute_result",
          "data": {
            "text/plain": [
              "12"
            ]
          },
          "metadata": {},
          "execution_count": 60
        }
      ]
    },
    {
      "cell_type": "code",
      "source": [
        "# replace \n",
        "sent.replace(\"The\", \"In\")"
      ],
      "metadata": {
        "colab": {
          "base_uri": "https://localhost:8080/",
          "height": 35
        },
        "id": "p3rATJlERrXb",
        "outputId": "9073ab60-a524-4e80-9b06-b58a0008e690"
      },
      "execution_count": 62,
      "outputs": [
        {
          "output_type": "execute_result",
          "data": {
            "text/plain": [
              "'In weather is Nice'"
            ],
            "application/vnd.google.colaboratory.intrinsic+json": {
              "type": "string"
            }
          },
          "metadata": {},
          "execution_count": 62
        }
      ]
    },
    {
      "cell_type": "markdown",
      "source": [
        "For more string operations and to get more practice, check out the following link: https://www.w3schools.com/python/python_ref_string.asp\n"
      ],
      "metadata": {
        "id": "nRegkzRwS7cd"
      }
    },
    {
      "cell_type": "markdown",
      "source": [
        "### **4. Lists**\n",
        "Lists are used to store multiple items in a single variable.\n",
        "\n",
        "`Lists` are an ordered list of any type of variable. You can **combine as many variables as you like**, and they could even be of multiple types. Ordinarily, unless you have a specific reason to do so, lists will contain variables of one type.\n",
        "\n",
        "You can also **iterate** over a list (use each item in a list in sequence).\n",
        "\n",
        "A list is placed between square brackets: `[]`"
      ],
      "metadata": {
        "id": "GgkygqGZ7V3t"
      }
    },
    {
      "cell_type": "code",
      "source": [
        "# created using square brackets\n",
        "mylist = [1,2,3]\n",
        "print(mylist)"
      ],
      "metadata": {
        "colab": {
          "base_uri": "https://localhost:8080/"
        },
        "id": "43Mhij2ZU9FD",
        "outputId": "11d5d009-537f-4dbc-b350-3f1ff0072f08"
      },
      "execution_count": 88,
      "outputs": [
        {
          "output_type": "stream",
          "name": "stdout",
          "text": [
            "[1, 2, 3]\n"
          ]
        }
      ]
    },
    {
      "cell_type": "code",
      "source": [
        "# append items to the list\n",
        "mylist.append(1)\n",
        "mylist.append(2)\n",
        "mylist.append(3)\n",
        "\n",
        "print(mylist)"
      ],
      "metadata": {
        "colab": {
          "base_uri": "https://localhost:8080/"
        },
        "id": "2KKYfqTlVMRZ",
        "outputId": "ef39b536-e383-45a3-d5d0-a3378f11cc78"
      },
      "execution_count": 89,
      "outputs": [
        {
          "output_type": "stream",
          "name": "stdout",
          "text": [
            "[1, 2, 3, 1, 2, 3]\n"
          ]
        }
      ]
    },
    {
      "cell_type": "code",
      "source": [
        "# 'append()' changes the variable and a new variable assignment is not necessary\n",
        "mylist.append(4)\n",
        "\n",
        "print(mylist)"
      ],
      "metadata": {
        "colab": {
          "base_uri": "https://localhost:8080/"
        },
        "id": "Lp0M52YjXzQi",
        "outputId": "8484014d-783e-4a73-d494-a98b89d78b3b"
      },
      "execution_count": 90,
      "outputs": [
        {
          "output_type": "stream",
          "name": "stdout",
          "text": [
            "[1, 2, 3, 1, 2, 3, 4]\n"
          ]
        }
      ]
    },
    {
      "cell_type": "markdown",
      "source": [
        "You can also extract subsets of the data in a list."
      ],
      "metadata": {
        "id": "K7Fbnit-WQeU"
      }
    },
    {
      "cell_type": "code",
      "source": [
        "# The first element in a Python list starts at position 0\n",
        "# similar to what we saw with strings, we can use [] to extract elements\n",
        "# Here, 1:4 indicates a range; from position 1 up to BUT NOT INCLUDING position 4\n",
        "\n",
        "print(mylist[1:4])"
      ],
      "metadata": {
        "colab": {
          "base_uri": "https://localhost:8080/"
        },
        "id": "lXe6f3vFVkZa",
        "outputId": "af9b5d79-b339-421e-9efe-a8cb4846440e"
      },
      "execution_count": 92,
      "outputs": [
        {
          "output_type": "stream",
          "name": "stdout",
          "text": [
            "[2, 3, 1]\n"
          ]
        }
      ]
    },
    {
      "cell_type": "code",
      "source": [
        "# The last item in a Python list can be addressed as -1. \n",
        "# This is helpful when you don't know how long a list is likely to be.\n",
        "print(mylist[-1])"
      ],
      "metadata": {
        "colab": {
          "base_uri": "https://localhost:8080/"
        },
        "id": "SfUAMUvU7e5R",
        "outputId": "50f5c75c-ff91-4728-d035-d04c190fde72"
      },
      "execution_count": 93,
      "outputs": [
        {
          "output_type": "stream",
          "name": "stdout",
          "text": [
            "4\n"
          ]
        }
      ]
    },
    {
      "cell_type": "markdown",
      "source": [
        "If you try access an item in a list that isn't there, you'll get an error."
      ],
      "metadata": {
        "id": "7tsOx1fy7jxD"
      }
    },
    {
      "cell_type": "code",
      "source": [
        "print(mylist[10])\n"
      ],
      "metadata": {
        "colab": {
          "base_uri": "https://localhost:8080/",
          "height": 166
        },
        "id": "gOndZXm-7mKm",
        "outputId": "557fc2bc-a4b5-4901-c1c7-93d3b4ed86c6"
      },
      "execution_count": 94,
      "outputs": [
        {
          "output_type": "error",
          "ename": "IndexError",
          "evalue": "ignored",
          "traceback": [
            "\u001b[0;31m---------------------------------------------------------------------------\u001b[0m",
            "\u001b[0;31mIndexError\u001b[0m                                Traceback (most recent call last)",
            "\u001b[0;32m<ipython-input-94-46c3ae90a572>\u001b[0m in \u001b[0;36m<module>\u001b[0;34m\u001b[0m\n\u001b[0;32m----> 1\u001b[0;31m \u001b[0mprint\u001b[0m\u001b[0;34m(\u001b[0m\u001b[0mmylist\u001b[0m\u001b[0;34m[\u001b[0m\u001b[0;36m10\u001b[0m\u001b[0;34m]\u001b[0m\u001b[0;34m)\u001b[0m\u001b[0;34m\u001b[0m\u001b[0;34m\u001b[0m\u001b[0m\n\u001b[0m",
            "\u001b[0;31mIndexError\u001b[0m: list index out of range"
          ]
        }
      ]
    },
    {
      "cell_type": "code",
      "source": [
        "even_numbers = [2, 4, 6, 8]\n",
        "uneven_numbers = [1, 3, 5, 7]\n",
        "all_numbers = uneven_numbers + even_numbers\n",
        "print(all_numbers)\n",
        "\n",
        "# You can also repeat sequences of lists\n",
        "print([1, 2 , 3] * 3)"
      ],
      "metadata": {
        "colab": {
          "base_uri": "https://localhost:8080/"
        },
        "id": "q2qQ4oODKQ7a",
        "outputId": "de074a45-fe96-4b59-91c0-242ff717e5a7"
      },
      "execution_count": null,
      "outputs": [
        {
          "output_type": "stream",
          "name": "stdout",
          "text": [
            "[1, 3, 5, 7, 2, 4, 6, 8]\n",
            "[1, 2, 3, 1, 2, 3, 1, 2, 3]\n"
          ]
        }
      ]
    },
    {
      "cell_type": "code",
      "source": [
        "friends = [\"Mary\", \"George\" , \"Ali\", \"Sher\"]\n",
        "print(friends)"
      ],
      "metadata": {
        "colab": {
          "base_uri": "https://localhost:8080/"
        },
        "id": "gs1mJBjvKdO5",
        "outputId": "6bd16147-8cf4-406e-9d77-df5de5656b33"
      },
      "execution_count": null,
      "outputs": [
        {
          "output_type": "stream",
          "name": "stdout",
          "text": [
            "['Mary', 'George', 'Ali', 'Sher']\n"
          ]
        }
      ]
    },
    {
      "cell_type": "code",
      "source": [
        "friends[1]"
      ],
      "metadata": {
        "id": "HgCl_aQ9KhW8",
        "colab": {
          "base_uri": "https://localhost:8080/",
          "height": 35
        },
        "outputId": "eb17087e-de83-48e0-f0f5-8181bd6e2292"
      },
      "execution_count": null,
      "outputs": [
        {
          "output_type": "execute_result",
          "data": {
            "application/vnd.google.colaboratory.intrinsic+json": {
              "type": "string"
            },
            "text/plain": [
              "'George'"
            ]
          },
          "metadata": {},
          "execution_count": 124
        }
      ]
    },
    {
      "cell_type": "code",
      "source": [
        "friends[0:2]"
      ],
      "metadata": {
        "id": "WyuPuBcFKiFM",
        "colab": {
          "base_uri": "https://localhost:8080/"
        },
        "outputId": "fa3d63f5-27c1-456e-936d-adec1a8bfe61"
      },
      "execution_count": null,
      "outputs": [
        {
          "output_type": "execute_result",
          "data": {
            "text/plain": [
              "['Mary', 'George']"
            ]
          },
          "metadata": {},
          "execution_count": 125
        }
      ]
    },
    {
      "cell_type": "code",
      "source": [
        "friends.append(\"Alicia\")\n",
        "print(friends)"
      ],
      "metadata": {
        "id": "4C06M_03Jwbw",
        "colab": {
          "base_uri": "https://localhost:8080/"
        },
        "outputId": "852f0712-d08a-4bc3-daf9-61751ea738bf"
      },
      "execution_count": null,
      "outputs": [
        {
          "output_type": "stream",
          "name": "stdout",
          "text": [
            "['Mary', 'George', 'Ali', 'Sher', 'Alicia']\n"
          ]
        }
      ]
    },
    {
      "cell_type": "code",
      "source": [
        "# friends.remove(\"Sher\")\n",
        "print(friends)"
      ],
      "metadata": {
        "id": "kCS5dHYbKBjH",
        "colab": {
          "base_uri": "https://localhost:8080/"
        },
        "outputId": "0523f2f1-eef6-4928-fa51-4b7568fc8829"
      },
      "execution_count": null,
      "outputs": [
        {
          "output_type": "stream",
          "name": "stdout",
          "text": [
            "['Mary', 'George', 'Ali', 'Alicia']\n"
          ]
        }
      ]
    },
    {
      "cell_type": "code",
      "source": [
        "#if an element is in the list? check the index\n",
        "friends.index(\"Ali\")"
      ],
      "metadata": {
        "id": "Z4-SKMAPKLRi",
        "colab": {
          "base_uri": "https://localhost:8080/"
        },
        "outputId": "34a7dd82-f829-4dc7-c528-cc828623c25f"
      },
      "execution_count": null,
      "outputs": [
        {
          "output_type": "execute_result",
          "data": {
            "text/plain": [
              "2"
            ]
          },
          "metadata": {},
          "execution_count": 130
        }
      ]
    },
    {
      "cell_type": "code",
      "source": [
        "friends.count(\"Ali\")"
      ],
      "metadata": {
        "colab": {
          "base_uri": "https://localhost:8080/"
        },
        "id": "Yhh-RVBtKa4z",
        "outputId": "5f91e73f-eec4-43d5-9f2a-8387a88bbc82"
      },
      "execution_count": null,
      "outputs": [
        {
          "output_type": "execute_result",
          "data": {
            "text/plain": [
              "1"
            ]
          },
          "metadata": {},
          "execution_count": 131
        }
      ]
    },
    {
      "cell_type": "code",
      "source": [
        "#friends.insert(0, \"\")\n",
        "#.clear\n",
        "#.pop for the last element"
      ],
      "metadata": {
        "id": "jEALboNdLSH0"
      },
      "execution_count": null,
      "outputs": []
    },
    {
      "cell_type": "code",
      "source": [
        "friends.sort()\n"
      ],
      "metadata": {
        "id": "Yjx4goEJKk9n"
      },
      "execution_count": null,
      "outputs": []
    },
    {
      "cell_type": "code",
      "source": [
        "print(friends)\n"
      ],
      "metadata": {
        "id": "aj5Z-sK1K8nh",
        "colab": {
          "base_uri": "https://localhost:8080/"
        },
        "outputId": "ecc420d7-30a3-4270-c2e6-c847b9c74a85"
      },
      "execution_count": null,
      "outputs": [
        {
          "output_type": "stream",
          "name": "stdout",
          "text": [
            "['Ali', 'Alicia', 'George', 'Mary']\n"
          ]
        }
      ]
    },
    {
      "cell_type": "markdown",
      "source": [
        "### Looping and For-statements"
      ],
      "metadata": {
        "id": "suNy2lXFYiLV"
      }
    },
    {
      "cell_type": "code",
      "source": [
        "# You can also loop through a list using a `for` statement.\n",
        "# Note that `x` is a new variable which takes on the value of each item in the list in order.\n",
        "\n",
        "for x in mylist:\n",
        "    print(x)"
      ],
      "metadata": {
        "id": "5Ej7hQxaWKHK"
      },
      "execution_count": null,
      "outputs": []
    },
    {
      "cell_type": "markdown",
      "source": [
        "####**2D List**\n",
        "\n",
        "As we cannot use 1d list in every use case so python 2d list is used. Also, known as lists inside a list or a nested list."
      ],
      "metadata": {
        "id": "xI7lxIL5fh12"
      }
    },
    {
      "cell_type": "code",
      "source": [
        "numbers = [\n",
        "         [1,2,3],\n",
        "         [4,5,6],\n",
        "         [7,8]\n",
        "]"
      ],
      "metadata": {
        "id": "-4Z9VQ4NfzZ8"
      },
      "execution_count": null,
      "outputs": []
    },
    {
      "cell_type": "code",
      "source": [
        "# nested for loop\n",
        "\n",
        "for row in numbers:\n",
        "  print(row)\n",
        "  for col in row:\n",
        "    print(col)\n",
        "    "
      ],
      "metadata": {
        "id": "rGcGlAFggJTD",
        "colab": {
          "base_uri": "https://localhost:8080/"
        },
        "outputId": "99979ab4-90de-444e-e3ca-094ae60866d0"
      },
      "execution_count": null,
      "outputs": [
        {
          "output_type": "stream",
          "name": "stdout",
          "text": [
            "1\n",
            "2\n",
            "3\n",
            "4\n",
            "5\n",
            "6\n",
            "7\n",
            "8\n"
          ]
        }
      ]
    },
    {
      "cell_type": "markdown",
      "source": [
        "###**5. Tuples**\n",
        "\n",
        "\n",
        "A Tuple is a collection of Python elements separated by commas. In someways a tuple is similar to a list in terms of indexing, nested objects and repetition but a tuple is **immutable** unlike lists which are mutable. \n",
        "\n",
        "With Tuples, You cannot changes or modify, delete, add them."
      ],
      "metadata": {
        "id": "wx-LlIS9Yi-b"
      }
    },
    {
      "cell_type": "code",
      "source": [
        "coordinates = (118, 441)"
      ],
      "metadata": {
        "id": "3GTMJ0pGZM6A"
      },
      "execution_count": null,
      "outputs": []
    },
    {
      "cell_type": "code",
      "source": [
        "# Access the elements \n",
        "coordinates[0]"
      ],
      "metadata": {
        "id": "pqnUGpeDMZaq",
        "colab": {
          "base_uri": "https://localhost:8080/"
        },
        "outputId": "84dc62dd-0128-414b-d5eb-4a9526b54094"
      },
      "execution_count": null,
      "outputs": [
        {
          "output_type": "execute_result",
          "data": {
            "text/plain": [
              "118"
            ]
          },
          "metadata": {},
          "execution_count": 141
        }
      ]
    },
    {
      "cell_type": "code",
      "source": [
        "# Can we change the items?\n",
        "coordinates[1] = 6669796685"
      ],
      "metadata": {
        "id": "2vM-iAs-ZsUw",
        "colab": {
          "base_uri": "https://localhost:8080/",
          "height": 183
        },
        "outputId": "78c48a4e-0008-4665-89b6-2b7c3a8cc21c"
      },
      "execution_count": null,
      "outputs": [
        {
          "output_type": "error",
          "ename": "TypeError",
          "evalue": "ignored",
          "traceback": [
            "\u001b[0;31m---------------------------------------------------------------------------\u001b[0m",
            "\u001b[0;31mTypeError\u001b[0m                                 Traceback (most recent call last)",
            "\u001b[0;32m<ipython-input-142-9452646c9fb8>\u001b[0m in \u001b[0;36m<module>\u001b[0;34m()\u001b[0m\n\u001b[1;32m      1\u001b[0m \u001b[0;31m# Can we change the items?\u001b[0m\u001b[0;34m\u001b[0m\u001b[0;34m\u001b[0m\u001b[0;34m\u001b[0m\u001b[0m\n\u001b[0;32m----> 2\u001b[0;31m \u001b[0mcoordinates\u001b[0m\u001b[0;34m[\u001b[0m\u001b[0;36m1\u001b[0m\u001b[0;34m]\u001b[0m \u001b[0;34m=\u001b[0m \u001b[0;36m6669796685\u001b[0m\u001b[0;34m\u001b[0m\u001b[0;34m\u001b[0m\u001b[0m\n\u001b[0m",
            "\u001b[0;31mTypeError\u001b[0m: 'tuple' object does not support item assignment"
          ]
        }
      ]
    },
    {
      "cell_type": "code",
      "source": [
        "list(coordinates)\n"
      ],
      "metadata": {
        "id": "ZPPPK223MwN1",
        "colab": {
          "base_uri": "https://localhost:8080/"
        },
        "outputId": "b85686ea-1e48-4f0e-9b21-7b7b7f2d077b"
      },
      "execution_count": null,
      "outputs": [
        {
          "output_type": "execute_result",
          "data": {
            "text/plain": [
              "[118, 441]"
            ]
          },
          "metadata": {},
          "execution_count": 143
        }
      ]
    },
    {
      "cell_type": "code",
      "source": [
        "#coordinates2 = [(1,2), (3,7), (7,5)]\n",
        "#coordinates2[1]"
      ],
      "metadata": {
        "id": "v-r1F6JANBpO"
      },
      "execution_count": null,
      "outputs": []
    },
    {
      "cell_type": "markdown",
      "source": [
        "##**Getting Input From Users**\n",
        "`input ( )` : This function first takes the input from the user and then evaluates the expression."
      ],
      "metadata": {
        "id": "gdqAgypoEr_a"
      }
    },
    {
      "cell_type": "code",
      "source": [
        "num = input (\"Enter number :\")\n",
        "print(num)\n"
      ],
      "metadata": {
        "colab": {
          "base_uri": "https://localhost:8080/"
        },
        "id": "zg2z9PWGEqys",
        "outputId": "23cddc41-2ea9-428b-bdad-44952d534954"
      },
      "execution_count": null,
      "outputs": [
        {
          "output_type": "stream",
          "name": "stdout",
          "text": [
            "Enter number :44\n",
            "44\n"
          ]
        }
      ]
    },
    {
      "cell_type": "code",
      "source": [
        "name1 = input(\"Enter name : \")\n",
        "print(\"My name is \"+ name1 + \"and I am \"+ num + \" years old!\")"
      ],
      "metadata": {
        "colab": {
          "base_uri": "https://localhost:8080/"
        },
        "id": "bJWuBq5LNoPt",
        "outputId": "c1dd30b6-8971-4214-e8c6-8bca0ce1e892"
      },
      "execution_count": null,
      "outputs": [
        {
          "output_type": "stream",
          "name": "stdout",
          "text": [
            "Enter name : j\n",
            "My name is jand I am 66 years old!\n"
          ]
        }
      ]
    },
    {
      "cell_type": "code",
      "source": [
        "type(num)"
      ],
      "metadata": {
        "colab": {
          "base_uri": "https://localhost:8080/"
        },
        "id": "zUn67j7PFRzB",
        "outputId": "dd0e3b85-50c6-4f2e-b4b4-cd7b3bfbf710"
      },
      "execution_count": null,
      "outputs": [
        {
          "output_type": "execute_result",
          "data": {
            "text/plain": [
              "str"
            ]
          },
          "metadata": {},
          "execution_count": 7
        }
      ]
    },
    {
      "cell_type": "markdown",
      "source": [
        "\n",
        "\n",
        "\n",
        "Ok, how about calculation? \n",
        "\n",
        "\n"
      ],
      "metadata": {
        "id": "Rgi0yYQfG4x5"
      }
    },
    {
      "cell_type": "code",
      "source": [
        "num1 = input(\"Enter a number:\")\n",
        "num2 = input(\"Enter another number:\")\n",
        "result = num1+num2"
      ],
      "metadata": {
        "id": "w9f-VkLlHG7c"
      },
      "execution_count": null,
      "outputs": []
    },
    {
      "cell_type": "markdown",
      "source": [
        "## **Conditions**\n",
        "In the section on Indentation you were introduced to the `if` statement and the set of boolean operators that allow you to test different variables against each other.\n",
        "\n",
        "To that list of boolean operators are added a new set of comparisons:` and, or and in.`"
      ],
      "metadata": {
        "id": "A1HOLxQS8kTf"
      }
    },
    {
      "cell_type": "markdown",
      "source": [
        "These can be used to create nuanced comparisons using if. You can use a series of comparisons with `if, elif and else`.\n",
        "Look at the below statement:\n",
        "```\n",
        "I want to go out\n",
        "\n",
        "If it is cloudy \n",
        "\n",
        "  I bring an umbrella\n",
        "\n",
        "Otherwise if it is sunny\n",
        "\n",
        "  I bring sunglasses\n",
        "\n",
        "otherwise\n",
        "\n",
        "I take a cab\n",
        "\n",
        "\n",
        "\n",
        "1)\n",
        "If condition:\n",
        "  statement1\n",
        "\n",
        "2)\n",
        "If condition:\n",
        "  statement1\n",
        "else:\n",
        "  statement3\n",
        "  \n",
        "3)\n",
        "If condition:\n",
        "  statement1\n",
        "elif:\n",
        "  statement2\n",
        "else:\n",
        "  statement3\n",
        "\n",
        "```\n",
        "\n"
      ],
      "metadata": {
        "id": "xWEs9XDe8xz1"
      }
    },
    {
      "cell_type": "code",
      "source": [
        "# Unexpected results\n",
        "x = 2\n",
        "if x > 2:\n",
        "    print(\"Testing x\")\n",
        "print(\"x > 2\")\n",
        "# Formated correctly\n",
        "if x == 2:\n",
        "    print(\"x == 2\")"
      ],
      "metadata": {
        "colab": {
          "base_uri": "https://localhost:8080/"
        },
        "id": "gpVEr-vD8diX",
        "outputId": "9268afa5-0c4b-4101-c30d-62d54a828288"
      },
      "execution_count": null,
      "outputs": [
        {
          "output_type": "stream",
          "name": "stdout",
          "text": [
            "x > 2\n",
            "x == 2\n"
          ]
        }
      ]
    },
    {
      "cell_type": "code",
      "source": [
        "# Demonstrating more complex if tests and use input finction()\n",
        "x = 2\n",
        "y = 10\n",
        "if x > 2:\n",
        "    print(\"x > 2\")\n",
        "elif x == 2 and y > 50:\n",
        "    print(\"x == 2 and y > 50\")\n",
        "elif x < 10 or y > 50:\n",
        "    # But, remember, you don't know WHICH condition was True\n",
        "    print(\"x < 10 or y > 50\")\n",
        "else:\n",
        "    print(\"Nothing worked.\")"
      ],
      "metadata": {
        "colab": {
          "base_uri": "https://localhost:8080/"
        },
        "id": "T67Pv_Gc8drH",
        "outputId": "e421ee57-b267-455d-de48-e7169253a0f4"
      },
      "execution_count": null,
      "outputs": [
        {
          "output_type": "stream",
          "name": "stdout",
          "text": [
            "x < 10 or y > 50\n"
          ]
        }
      ]
    },
    {
      "cell_type": "code",
      "source": [
        "#input(\"Enter your age\")"
      ],
      "metadata": {
        "id": "flzXqaP5WV4A"
      },
      "execution_count": null,
      "outputs": []
    },
    {
      "cell_type": "markdown",
      "source": [
        "## **Loops**\n",
        "Looping means repeating something over and over until a particular condition is satisfie or duntil that object is complete.\n",
        "\n",
        "There are two types of loop in Python:\n",
        "\n",
        "\n",
        "\n",
        "```\n",
        "1) for loop : for loops are traditionally used when you have a block of code which you want to repeat a fixed number of times. \n",
        "you can use it for range, lists, tuples,....\n",
        "\n",
        "    For var in iterable:\n",
        "      statement\n",
        "      \n",
        "2) While loop : A \"While\" Loop is used to repeat a specific block of code an unknown number of times\n",
        "\n",
        "  While condition:\n",
        "    statement\n",
        "```\n",
        "\n",
        "\n"
      ],
      "metadata": {
        "id": "_cHsbaEw9Ivu"
      }
    },
    {
      "cell_type": "code",
      "source": [
        "# for loop\n",
        "\n",
        "for letter in \"the weather is nice today\":\n",
        " print(letter)"
      ],
      "metadata": {
        "id": "aGIMV_Sua6yJ",
        "colab": {
          "base_uri": "https://localhost:8080/"
        },
        "outputId": "2d99073d-8278-4de0-f83f-a57c3f2ec247"
      },
      "execution_count": null,
      "outputs": [
        {
          "output_type": "stream",
          "name": "stdout",
          "text": [
            "t\n",
            "h\n",
            "e\n",
            " \n",
            "w\n",
            "e\n",
            "a\n",
            "t\n",
            "h\n",
            "e\n",
            "r\n",
            " \n",
            "i\n",
            "s\n",
            " \n",
            "n\n",
            "i\n",
            "c\n",
            "e\n",
            " \n",
            "t\n",
            "o\n",
            "d\n",
            "a\n",
            "y\n"
          ]
        }
      ]
    },
    {
      "cell_type": "code",
      "source": [
        "names = [\"Mary\", \"George\" , \"Ali\", \"Sher\"]"
      ],
      "metadata": {
        "id": "_to5LM0BbQ4K"
      },
      "execution_count": null,
      "outputs": []
    },
    {
      "cell_type": "markdown",
      "source": [
        "`range(start, stop) creates a list of integers between start and stop, or range(num) creates a zero-based list up to num`"
      ],
      "metadata": {
        "id": "1ZEy-R9mctiP"
      }
    },
    {
      "cell_type": "code",
      "source": [
        "#for i in range(1,10)"
      ],
      "metadata": {
        "id": "q8vByK0gbiax"
      },
      "execution_count": null,
      "outputs": []
    },
    {
      "cell_type": "code",
      "source": [
        "# for i in range(len()):\n",
        "#print(name[i])"
      ],
      "metadata": {
        "id": "ClXXGEg5bozk"
      },
      "execution_count": null,
      "outputs": []
    },
    {
      "cell_type": "code",
      "source": [
        "# while loop\n",
        " i = 1\n",
        " while i <= 10:\n",
        "   print(i)\n",
        "   i+= 1\n",
        "print(\"Done?\")"
      ],
      "metadata": {
        "id": "BBlMYNCuaKJ0"
      },
      "execution_count": null,
      "outputs": []
    },
    {
      "cell_type": "markdown",
      "source": [
        "\n",
        "`break` exits a `while` or `for` loop immediately\n",
        "`continue` skips the current loop and returns to the loop conditional"
      ],
      "metadata": {
        "id": "VJjmJtbu9e1p"
      }
    },
    {
      "cell_type": "code",
      "source": [
        "# Break and while conditional\n",
        "print(\"Break and while conditional\")\n",
        "count = 0\n",
        "while True:\n",
        "    # You may think this would run forever, but ...\n",
        "    print(count)\n",
        "    count += 1\n",
        "    if count >= 5:\n",
        "        break\n"
      ],
      "metadata": {
        "colab": {
          "base_uri": "https://localhost:8080/"
        },
        "id": "RKN1_57t8eIX",
        "outputId": "be93d545-2bca-4f01-aa7a-d929245c0450"
      },
      "execution_count": null,
      "outputs": [
        {
          "output_type": "stream",
          "name": "stdout",
          "text": [
            "Break and while conditional\n",
            "0\n",
            "1\n",
            "2\n",
            "3\n",
            "4\n"
          ]
        }
      ]
    },
    {
      "cell_type": "markdown",
      "source": [
        "## **Functions**\n",
        "\n",
        "A function is a block of code that only runs when it is called. Python functions return a value using a return statement, if one is specified. A function can be called anywhere after the function has been declared.\n",
        "You can use functions for orgonizing your codes.\n",
        "\n",
        "\n",
        "\n",
        "```\n",
        "def name_Of_Function (parameters):\n",
        "  print()\n",
        "\n",
        "Hoq to call the function:\n",
        "\n",
        "name_Of_Function(param)\n",
        "\n",
        "```\n",
        "\n",
        "\n"
      ],
      "metadata": {
        "id": "Eg34jaZ39lJy"
      }
    },
    {
      "cell_type": "code",
      "source": [
        "def employee(name, age):\n",
        "  print(name + \" is \" + str(age))\n",
        "\n",
        "employee(\"Mike\", 20)"
      ],
      "metadata": {
        "colab": {
          "base_uri": "https://localhost:8080/"
        },
        "id": "_3LIoHDs8ePy",
        "outputId": "db12f276-51c1-48d2-8f63-157691916dbd"
      },
      "execution_count": null,
      "outputs": [
        {
          "output_type": "stream",
          "name": "stdout",
          "text": [
            "Mike is 20\n",
            "None\n"
          ]
        }
      ]
    },
    {
      "cell_type": "code",
      "source": [
        "# Retrun Statement: breaks the function\n",
        "def area(num):\n",
        "  return num * num\n",
        "\n",
        "area(5)"
      ],
      "metadata": {
        "colab": {
          "base_uri": "https://localhost:8080/"
        },
        "id": "QhmTHVWJjJIT",
        "outputId": "a6823e00-d14e-4dac-acc3-d4b63799fbb8"
      },
      "execution_count": null,
      "outputs": [
        {
          "output_type": "execute_result",
          "data": {
            "text/plain": [
              "25"
            ]
          },
          "metadata": {},
          "execution_count": 54
        }
      ]
    },
    {
      "cell_type": "code",
      "source": [
        "def tri_recursion(k):\n",
        "  if(k > 0):\n",
        "    result = k + tri_recursion(k - 1)\n",
        "    print(result)\n",
        "  else:\n",
        "    result = 0\n",
        "  return result\n",
        "\n",
        "print(\"\\n\\nRecursion Example Results\")\n",
        "tri_recursion()"
      ],
      "metadata": {
        "colab": {
          "base_uri": "https://localhost:8080/",
          "height": 253
        },
        "id": "Betg7YHLkBKS",
        "outputId": "7edfbf84-0631-4f53-e15e-59ab1d8dd228"
      },
      "execution_count": null,
      "outputs": [
        {
          "output_type": "stream",
          "name": "stdout",
          "text": [
            "\n",
            "\n",
            "Recursion Example Results\n"
          ]
        },
        {
          "output_type": "error",
          "ename": "TypeError",
          "evalue": "ignored",
          "traceback": [
            "\u001b[0;31m---------------------------------------------------------------------------\u001b[0m",
            "\u001b[0;31mTypeError\u001b[0m                                 Traceback (most recent call last)",
            "\u001b[0;32m<ipython-input-56-af423704713a>\u001b[0m in \u001b[0;36m<module>\u001b[0;34m()\u001b[0m\n\u001b[1;32m      8\u001b[0m \u001b[0;34m\u001b[0m\u001b[0m\n\u001b[1;32m      9\u001b[0m \u001b[0mprint\u001b[0m\u001b[0;34m(\u001b[0m\u001b[0;34m\"\\n\\nRecursion Example Results\"\u001b[0m\u001b[0;34m)\u001b[0m\u001b[0;34m\u001b[0m\u001b[0;34m\u001b[0m\u001b[0m\n\u001b[0;32m---> 10\u001b[0;31m \u001b[0mtri_recursion\u001b[0m\u001b[0;34m(\u001b[0m\u001b[0;34m)\u001b[0m\u001b[0;34m\u001b[0m\u001b[0;34m\u001b[0m\u001b[0m\n\u001b[0m",
            "\u001b[0;31mTypeError\u001b[0m: tri_recursion() missing 1 required positional argument: 'k'"
          ]
        }
      ]
    },
    {
      "cell_type": "markdown",
      "source": [
        "##**Reading From File**"
      ],
      "metadata": {
        "id": "aGeDJzv4KXnh"
      }
    },
    {
      "cell_type": "markdown",
      "source": [
        "\n",
        "To read a text file in Python, you follow these steps:\n",
        "\n",
        "```\n",
        "1 - First, open a text file for reading by using the open() function.\n",
        "2 - Read text from the text file using the file read(), readline(), or readlines() method of the file object.\n",
        "3 - close the file using the file close() method.\n",
        "\n",
        "The following table shows available modes for opening a text file:\n",
        "\n",
        "Mode\tDescription\n",
        "'r'\tOpen a text file for reading text\n",
        "'w'\tOpen a text file for writing text\n",
        "'a'\tOpen a text file for appending text\n",
        "```\n",
        "\n"
      ],
      "metadata": {
        "id": "8Nxw-6IzKcsu"
      }
    },
    {
      "cell_type": "code",
      "source": [
        "# Reading the file\n",
        "my_file = open(\"employee.txt\", \"r\")\n",
        "#print(my_file.read())\n",
        "\n",
        "#print(my_file.readline())\n",
        "#print(my_file.readline())\n",
        "\n",
        "#read as a list\n",
        "#print(my_file.readlines())\n",
        "\n",
        "#print(my_file.readlines()[1])\n",
        "\n",
        "#for employee in my_file.readlines():\n",
        "#  print(employee)\n",
        "\n",
        "my_file.close()"
      ],
      "metadata": {
        "colab": {
          "base_uri": "https://localhost:8080/",
          "height": 235
        },
        "id": "Hp2eqWHzKc2P",
        "outputId": "0af1f5b4-0740-48a8-eeb0-525628e4b035"
      },
      "execution_count": null,
      "outputs": [
        {
          "output_type": "error",
          "ename": "FileNotFoundError",
          "evalue": "ignored",
          "traceback": [
            "\u001b[0;31m---------------------------------------------------------------------------\u001b[0m",
            "\u001b[0;31mFileNotFoundError\u001b[0m                         Traceback (most recent call last)",
            "\u001b[0;32m<ipython-input-57-9a6b0cf80dec>\u001b[0m in \u001b[0;36m<module>\u001b[0;34m()\u001b[0m\n\u001b[1;32m      1\u001b[0m \u001b[0;31m# Reading the file\u001b[0m\u001b[0;34m\u001b[0m\u001b[0;34m\u001b[0m\u001b[0;34m\u001b[0m\u001b[0m\n\u001b[0;32m----> 2\u001b[0;31m \u001b[0mmy_file\u001b[0m \u001b[0;34m=\u001b[0m \u001b[0mopen\u001b[0m\u001b[0;34m(\u001b[0m\u001b[0;34m\"employee.txt\"\u001b[0m\u001b[0;34m,\u001b[0m \u001b[0;34m\"r\"\u001b[0m\u001b[0;34m)\u001b[0m\u001b[0;34m\u001b[0m\u001b[0;34m\u001b[0m\u001b[0m\n\u001b[0m\u001b[1;32m      3\u001b[0m \u001b[0mprint\u001b[0m\u001b[0;34m(\u001b[0m\u001b[0mmy_file\u001b[0m\u001b[0;34m.\u001b[0m\u001b[0mread\u001b[0m\u001b[0;34m(\u001b[0m\u001b[0;34m)\u001b[0m\u001b[0;34m)\u001b[0m\u001b[0;34m\u001b[0m\u001b[0;34m\u001b[0m\u001b[0m\n\u001b[1;32m      4\u001b[0m \u001b[0;31m#print(my_file.readline())\u001b[0m\u001b[0;34m\u001b[0m\u001b[0;34m\u001b[0m\u001b[0;34m\u001b[0m\u001b[0m\n\u001b[1;32m      5\u001b[0m \u001b[0;31m#print(my_file.readline())\u001b[0m\u001b[0;34m\u001b[0m\u001b[0;34m\u001b[0m\u001b[0;34m\u001b[0m\u001b[0m\n",
            "\u001b[0;31mFileNotFoundError\u001b[0m: [Errno 2] No such file or directory: 'employee.txt'"
          ]
        }
      ]
    },
    {
      "cell_type": "markdown",
      "source": [
        "We’ve opened our scone.txt file using the w mode. This means that we can write to the file with which we are working. There are a couple of different modes that you may want to use. The ones we need for writing are:\n",
        "\n",
        "```\n",
        "a: This mode appends information to the end of a file.\n",
        "w: This mode allows you to write to a file. It erases the contents of a file and creates a new one.\n",
        "```\n",
        "\n"
      ],
      "metadata": {
        "id": "upjhIO3OpYJd"
      }
    },
    {
      "cell_type": "code",
      "source": [
        "#appending to the file\n",
        "my_file = open(\"employee.txt\", \"a\")\n",
        "\n",
        "my_file.write(\"\\nJohn - ML Engineer\")\n",
        "\n",
        "my_file.close()\n"
      ],
      "metadata": {
        "id": "lDKqxZWHlcnf"
      },
      "execution_count": null,
      "outputs": []
    },
    {
      "cell_type": "code",
      "source": [
        "#overwritting the file\n",
        "my_file = open(\"employee1.txt\", \"w\")\n",
        "\n",
        "my_file.write(\"\\nJohn - ML Engineer\")\n",
        "\n",
        "my_file.close()\n"
      ],
      "metadata": {
        "colab": {
          "base_uri": "https://localhost:8080/",
          "height": 218
        },
        "id": "ujJLePd8mh1k",
        "outputId": "23d933f9-9e8c-4d31-f322-4d485e435584"
      },
      "execution_count": null,
      "outputs": [
        {
          "output_type": "error",
          "ename": "UnsupportedOperation",
          "evalue": "ignored",
          "traceback": [
            "\u001b[0;31m---------------------------------------------------------------------------\u001b[0m",
            "\u001b[0;31mUnsupportedOperation\u001b[0m                      Traceback (most recent call last)",
            "\u001b[0;32m<ipython-input-170-05dac4ebe935>\u001b[0m in \u001b[0;36m<module>\u001b[0;34m()\u001b[0m\n\u001b[1;32m      3\u001b[0m \u001b[0;34m\u001b[0m\u001b[0m\n\u001b[1;32m      4\u001b[0m \u001b[0mmy_file\u001b[0m\u001b[0;34m.\u001b[0m\u001b[0mwrite\u001b[0m\u001b[0;34m(\u001b[0m\u001b[0;34m\"\\nJohn - ML Engineer\"\u001b[0m\u001b[0;34m)\u001b[0m\u001b[0;34m\u001b[0m\u001b[0;34m\u001b[0m\u001b[0m\n\u001b[0;32m----> 5\u001b[0;31m \u001b[0mprint\u001b[0m\u001b[0;34m(\u001b[0m\u001b[0mmy_file\u001b[0m\u001b[0;34m.\u001b[0m\u001b[0mread\u001b[0m\u001b[0;34m(\u001b[0m\u001b[0;34m)\u001b[0m\u001b[0;34m)\u001b[0m\u001b[0;34m\u001b[0m\u001b[0;34m\u001b[0m\u001b[0m\n\u001b[0m\u001b[1;32m      6\u001b[0m \u001b[0mmy_file\u001b[0m\u001b[0;34m.\u001b[0m\u001b[0mclose\u001b[0m\u001b[0;34m(\u001b[0m\u001b[0;34m)\u001b[0m\u001b[0;34m\u001b[0m\u001b[0;34m\u001b[0m\u001b[0m\n",
            "\u001b[0;31mUnsupportedOperation\u001b[0m: not readable"
          ]
        }
      ]
    },
    {
      "cell_type": "code",
      "source": [],
      "metadata": {
        "id": "AqZTvh1JA-5_"
      },
      "execution_count": null,
      "outputs": []
    },
    {
      "cell_type": "markdown",
      "source": [
        "## **Working with Math Module**\n",
        "A Python module is a file containing Python definitions and statements. A module can define functions, classes, and variables. A module can also include runnable code.\n",
        "we can consider a module to be the same as a code library or a file that contains a set of functions that you want to include in your application."
      ],
      "metadata": {
        "id": "EZP_gVb4I35D"
      }
    },
    {
      "cell_type": "markdown",
      "source": [
        "Python math module is defined as the most famous mathematical functions, which includes trigonometric functions, representation functions, logarithmic functions, etc."
      ],
      "metadata": {
        "id": "d3QM6XB0r_a0"
      }
    },
    {
      "cell_type": "code",
      "source": [
        "import math\n",
        "num = 4\n",
        "print(sqrt(2))\n",
        "print(abs(-4))\n",
        "print(pow(2,3))"
      ],
      "metadata": {
        "colab": {
          "base_uri": "https://localhost:8080/"
        },
        "id": "57aAGgRWeFie",
        "outputId": "ada4e9ad-7ea8-4235-b06a-5b0ef692a2a9"
      },
      "execution_count": null,
      "outputs": [
        {
          "output_type": "stream",
          "name": "stdout",
          "text": [
            "1.4142135623730951\n",
            "4\n",
            "8.0\n"
          ]
        }
      ]
    },
    {
      "cell_type": "markdown",
      "source": [
        "A Python library is a collection of related modules. It contains bundles of code that can be used repeatedly in different programs. It makes Python Programming simpler and convenient for the programmer."
      ],
      "metadata": {
        "id": "eLvKmtqAsj9E"
      }
    },
    {
      "cell_type": "markdown",
      "source": [
        "Python includes libraries. Python Libraries are a set of useful functions that eliminate the need for writing codes from scratch. \n",
        "Some useful libraries are:\n",
        "\n",
        "\n",
        "**A. Data Cleaning and Data Manipulation**\n",
        "\n",
        "1.   Pandas\n",
        "2.   Numpy\n",
        "3.   Spacy\n",
        "4.   SciPy\n",
        "\n",
        "\n",
        "**B. Data Gathering**\n",
        "\n",
        "1. Beautiful Soap\n",
        "2. Scrapy\n",
        "3. Selenium\n",
        "\n",
        "\n",
        "**C. Data Visualisation**\n",
        "\n",
        "1. Matplotlib\n",
        "2. Seaborn\n",
        "3. Bokeh\n",
        "4. Plotly\n",
        "\n",
        "\n",
        "**D. Data Modelling**\n",
        "\n",
        "1. Scikit-Learn\n",
        "2. PyTorch\n",
        "3. TensorFlow\n",
        "4. Theano\n",
        "\n",
        "**E. Image Processing**\n",
        "\n",
        "1. Scikit-Image\n",
        "2. Pillow\n",
        "3. OpenCV\n",
        "\n",
        "\n",
        "\n",
        "\n",
        "\n",
        "\n",
        "\n"
      ],
      "metadata": {
        "id": "DAFw6xkw_Gyk"
      }
    },
    {
      "cell_type": "markdown",
      "source": [
        "\n",
        "\n",
        "```\n",
        "Now, Lets practice\n",
        "```\n",
        " \n"
      ],
      "metadata": {
        "id": "HAFLJbLIs0wU"
      }
    },
    {
      "cell_type": "markdown",
      "source": [
        "\n",
        "\n",
        "##**Example: Simple Calculator in Python**\n",
        "\n"
      ],
      "metadata": {
        "id": "fOSANw0As8Fn"
      }
    },
    {
      "cell_type": "code",
      "source": [
        "\n",
        "# This function adds two numbers\n",
        "def add(x, y):\n",
        "    return x + y\n",
        "\n",
        "# This function subtracts two numbers\n",
        "def subtract(x, y):\n",
        "    return x - y\n",
        "\n",
        "# This function multiplies two numbers\n",
        "def multiply(x, y):\n",
        "    return x * y\n",
        "\n",
        "# This function divides two numbers\n",
        "def divide(x, y):\n",
        "    return x / y\n",
        "\n",
        "print(\"Select operation.\")\n",
        "print(\"1.Add\")\n",
        "print(\"2.Subtract\")\n",
        "print(\"3.Multiply\")\n",
        "print(\"4.Divide\")\n",
        "\n",
        "while True:\n",
        "    # take input from the user\n",
        "    choice = input(\"Enter choice(1/2/3/4): \")\n",
        "\n",
        "    # check if choice is one of the four options\n",
        "    if choice in ('1', '2', '3', '4'):\n",
        "        num1 = float(input(\"Enter first number: \"))\n",
        "        num2 = float(input(\"Enter second number: \"))\n",
        "\n",
        "        if choice == '1':\n",
        "            print(num1, \"+\", num2, \"=\", add(num1, num2))\n",
        "\n",
        "        elif choice == '2':\n",
        "            print(num1, \"-\", num2, \"=\", subtract(num1, num2))\n",
        "\n",
        "        elif choice == '3':\n",
        "            print(num1, \"*\", num2, \"=\", multiply(num1, num2))\n",
        "\n",
        "        elif choice == '4':\n",
        "            print(num1, \"/\", num2, \"=\", divide(num1, num2))\n",
        "        \n",
        "        # check if user wants another calculation\n",
        "        # break the while loop if answer is no\n",
        "        next_calculation = input(\"Let's do next calculation? (yes/no): \")\n",
        "        if next_calculation == \"no\":\n",
        "          break\n",
        "    \n",
        "    else:\n",
        "        print(\"Invalid Input\")"
      ],
      "metadata": {
        "colab": {
          "base_uri": "https://localhost:8080/",
          "height": 623
        },
        "id": "lRtJGlGgs7dt",
        "outputId": "3978873c-1b4f-418f-dbf1-b163bb6eccfa"
      },
      "execution_count": null,
      "outputs": [
        {
          "output_type": "stream",
          "name": "stdout",
          "text": [
            "Select operation.\n",
            "1.Add\n",
            "2.Subtract\n",
            "3.Multiply\n",
            "4.Divide\n"
          ]
        },
        {
          "output_type": "error",
          "ename": "KeyboardInterrupt",
          "evalue": "ignored",
          "traceback": [
            "\u001b[0;31m---------------------------------------------------------------------------\u001b[0m",
            "\u001b[0;31mKeyboardInterrupt\u001b[0m                         Traceback (most recent call last)",
            "\u001b[0;32m/usr/local/lib/python3.7/dist-packages/ipykernel/kernelbase.py\u001b[0m in \u001b[0;36m_input_request\u001b[0;34m(self, prompt, ident, parent, password)\u001b[0m\n\u001b[1;32m    728\u001b[0m             \u001b[0;32mtry\u001b[0m\u001b[0;34m:\u001b[0m\u001b[0;34m\u001b[0m\u001b[0;34m\u001b[0m\u001b[0m\n\u001b[0;32m--> 729\u001b[0;31m                 \u001b[0mident\u001b[0m\u001b[0;34m,\u001b[0m \u001b[0mreply\u001b[0m \u001b[0;34m=\u001b[0m \u001b[0mself\u001b[0m\u001b[0;34m.\u001b[0m\u001b[0msession\u001b[0m\u001b[0;34m.\u001b[0m\u001b[0mrecv\u001b[0m\u001b[0;34m(\u001b[0m\u001b[0mself\u001b[0m\u001b[0;34m.\u001b[0m\u001b[0mstdin_socket\u001b[0m\u001b[0;34m,\u001b[0m \u001b[0;36m0\u001b[0m\u001b[0;34m)\u001b[0m\u001b[0;34m\u001b[0m\u001b[0;34m\u001b[0m\u001b[0m\n\u001b[0m\u001b[1;32m    730\u001b[0m             \u001b[0;32mexcept\u001b[0m \u001b[0mException\u001b[0m\u001b[0;34m:\u001b[0m\u001b[0;34m\u001b[0m\u001b[0;34m\u001b[0m\u001b[0m\n",
            "\u001b[0;32m/usr/local/lib/python3.7/dist-packages/jupyter_client/session.py\u001b[0m in \u001b[0;36mrecv\u001b[0;34m(self, socket, mode, content, copy)\u001b[0m\n\u001b[1;32m    802\u001b[0m         \u001b[0;32mtry\u001b[0m\u001b[0;34m:\u001b[0m\u001b[0;34m\u001b[0m\u001b[0;34m\u001b[0m\u001b[0m\n\u001b[0;32m--> 803\u001b[0;31m             \u001b[0mmsg_list\u001b[0m \u001b[0;34m=\u001b[0m \u001b[0msocket\u001b[0m\u001b[0;34m.\u001b[0m\u001b[0mrecv_multipart\u001b[0m\u001b[0;34m(\u001b[0m\u001b[0mmode\u001b[0m\u001b[0;34m,\u001b[0m \u001b[0mcopy\u001b[0m\u001b[0;34m=\u001b[0m\u001b[0mcopy\u001b[0m\u001b[0;34m)\u001b[0m\u001b[0;34m\u001b[0m\u001b[0;34m\u001b[0m\u001b[0m\n\u001b[0m\u001b[1;32m    804\u001b[0m         \u001b[0;32mexcept\u001b[0m \u001b[0mzmq\u001b[0m\u001b[0;34m.\u001b[0m\u001b[0mZMQError\u001b[0m \u001b[0;32mas\u001b[0m \u001b[0me\u001b[0m\u001b[0;34m:\u001b[0m\u001b[0;34m\u001b[0m\u001b[0;34m\u001b[0m\u001b[0m\n",
            "\u001b[0;32m/usr/local/lib/python3.7/dist-packages/zmq/sugar/socket.py\u001b[0m in \u001b[0;36mrecv_multipart\u001b[0;34m(self, flags, copy, track)\u001b[0m\n\u001b[1;32m    624\u001b[0m         \"\"\"\n\u001b[0;32m--> 625\u001b[0;31m         \u001b[0mparts\u001b[0m \u001b[0;34m=\u001b[0m \u001b[0;34m[\u001b[0m\u001b[0mself\u001b[0m\u001b[0;34m.\u001b[0m\u001b[0mrecv\u001b[0m\u001b[0;34m(\u001b[0m\u001b[0mflags\u001b[0m\u001b[0;34m,\u001b[0m \u001b[0mcopy\u001b[0m\u001b[0;34m=\u001b[0m\u001b[0mcopy\u001b[0m\u001b[0;34m,\u001b[0m \u001b[0mtrack\u001b[0m\u001b[0;34m=\u001b[0m\u001b[0mtrack\u001b[0m\u001b[0;34m)\u001b[0m\u001b[0;34m]\u001b[0m\u001b[0;34m\u001b[0m\u001b[0;34m\u001b[0m\u001b[0m\n\u001b[0m\u001b[1;32m    626\u001b[0m         \u001b[0;31m# have first part already, only loop while more to receive\u001b[0m\u001b[0;34m\u001b[0m\u001b[0;34m\u001b[0m\u001b[0;34m\u001b[0m\u001b[0m\n",
            "\u001b[0;32mzmq/backend/cython/socket.pyx\u001b[0m in \u001b[0;36mzmq.backend.cython.socket.Socket.recv\u001b[0;34m()\u001b[0m\n",
            "\u001b[0;32mzmq/backend/cython/socket.pyx\u001b[0m in \u001b[0;36mzmq.backend.cython.socket.Socket.recv\u001b[0;34m()\u001b[0m\n",
            "\u001b[0;32mzmq/backend/cython/socket.pyx\u001b[0m in \u001b[0;36mzmq.backend.cython.socket._recv_copy\u001b[0;34m()\u001b[0m\n",
            "\u001b[0;32m/usr/local/lib/python3.7/dist-packages/zmq/backend/cython/checkrc.pxd\u001b[0m in \u001b[0;36mzmq.backend.cython.checkrc._check_rc\u001b[0;34m()\u001b[0m\n",
            "\u001b[0;31mKeyboardInterrupt\u001b[0m: ",
            "\nDuring handling of the above exception, another exception occurred:\n",
            "\u001b[0;31mKeyboardInterrupt\u001b[0m                         Traceback (most recent call last)",
            "\u001b[0;32m<ipython-input-69-76b410956891>\u001b[0m in \u001b[0;36m<module>\u001b[0;34m()\u001b[0m\n\u001b[1;32m     24\u001b[0m \u001b[0;32mwhile\u001b[0m \u001b[0;32mTrue\u001b[0m\u001b[0;34m:\u001b[0m\u001b[0;34m\u001b[0m\u001b[0;34m\u001b[0m\u001b[0m\n\u001b[1;32m     25\u001b[0m     \u001b[0;31m# take input from the user\u001b[0m\u001b[0;34m\u001b[0m\u001b[0;34m\u001b[0m\u001b[0;34m\u001b[0m\u001b[0m\n\u001b[0;32m---> 26\u001b[0;31m     \u001b[0mchoice\u001b[0m \u001b[0;34m=\u001b[0m \u001b[0minput\u001b[0m\u001b[0;34m(\u001b[0m\u001b[0;34m\"Enter choice(1/2/3/4): \"\u001b[0m\u001b[0;34m)\u001b[0m\u001b[0;34m\u001b[0m\u001b[0;34m\u001b[0m\u001b[0m\n\u001b[0m\u001b[1;32m     27\u001b[0m \u001b[0;34m\u001b[0m\u001b[0m\n\u001b[1;32m     28\u001b[0m     \u001b[0;31m# check if choice is one of the four options\u001b[0m\u001b[0;34m\u001b[0m\u001b[0;34m\u001b[0m\u001b[0;34m\u001b[0m\u001b[0m\n",
            "\u001b[0;32m/usr/local/lib/python3.7/dist-packages/ipykernel/kernelbase.py\u001b[0m in \u001b[0;36mraw_input\u001b[0;34m(self, prompt)\u001b[0m\n\u001b[1;32m    702\u001b[0m             \u001b[0mself\u001b[0m\u001b[0;34m.\u001b[0m\u001b[0m_parent_ident\u001b[0m\u001b[0;34m,\u001b[0m\u001b[0;34m\u001b[0m\u001b[0;34m\u001b[0m\u001b[0m\n\u001b[1;32m    703\u001b[0m             \u001b[0mself\u001b[0m\u001b[0;34m.\u001b[0m\u001b[0m_parent_header\u001b[0m\u001b[0;34m,\u001b[0m\u001b[0;34m\u001b[0m\u001b[0;34m\u001b[0m\u001b[0m\n\u001b[0;32m--> 704\u001b[0;31m             \u001b[0mpassword\u001b[0m\u001b[0;34m=\u001b[0m\u001b[0;32mFalse\u001b[0m\u001b[0;34m,\u001b[0m\u001b[0;34m\u001b[0m\u001b[0;34m\u001b[0m\u001b[0m\n\u001b[0m\u001b[1;32m    705\u001b[0m         )\n\u001b[1;32m    706\u001b[0m \u001b[0;34m\u001b[0m\u001b[0m\n",
            "\u001b[0;32m/usr/local/lib/python3.7/dist-packages/ipykernel/kernelbase.py\u001b[0m in \u001b[0;36m_input_request\u001b[0;34m(self, prompt, ident, parent, password)\u001b[0m\n\u001b[1;32m    732\u001b[0m             \u001b[0;32mexcept\u001b[0m \u001b[0mKeyboardInterrupt\u001b[0m\u001b[0;34m:\u001b[0m\u001b[0;34m\u001b[0m\u001b[0;34m\u001b[0m\u001b[0m\n\u001b[1;32m    733\u001b[0m                 \u001b[0;31m# re-raise KeyboardInterrupt, to truncate traceback\u001b[0m\u001b[0;34m\u001b[0m\u001b[0;34m\u001b[0m\u001b[0;34m\u001b[0m\u001b[0m\n\u001b[0;32m--> 734\u001b[0;31m                 \u001b[0;32mraise\u001b[0m \u001b[0mKeyboardInterrupt\u001b[0m\u001b[0;34m\u001b[0m\u001b[0;34m\u001b[0m\u001b[0m\n\u001b[0m\u001b[1;32m    735\u001b[0m             \u001b[0;32melse\u001b[0m\u001b[0;34m:\u001b[0m\u001b[0;34m\u001b[0m\u001b[0;34m\u001b[0m\u001b[0m\n\u001b[1;32m    736\u001b[0m                 \u001b[0;32mbreak\u001b[0m\u001b[0;34m\u001b[0m\u001b[0;34m\u001b[0m\u001b[0m\n",
            "\u001b[0;31mKeyboardInterrupt\u001b[0m: "
          ]
        }
      ]
    }
  ]
}