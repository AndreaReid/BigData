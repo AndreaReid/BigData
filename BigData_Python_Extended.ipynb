{
  "nbformat": 4,
  "nbformat_minor": 0,
  "metadata": {
    "colab": {
      "provenance": [],
      "toc_visible": true,
      "authorship_tag": "ABX9TyMZrQo/h+jXb3TaGhWoqR5/",
      "include_colab_link": true
    },
    "kernelspec": {
      "name": "python3",
      "display_name": "Python 3"
    },
    "language_info": {
      "name": "python"
    }
  },
  "cells": [
    {
      "cell_type": "markdown",
      "metadata": {
        "id": "view-in-github",
        "colab_type": "text"
      },
      "source": [
        "<a href=\"https://colab.research.google.com/github/AndreaReid/BigData/blob/main/BigData_Python_Extended.ipynb\" target=\"_parent\"><img src=\"https://colab.research.google.com/assets/colab-badge.svg\" alt=\"Open In Colab\"/></a>"
      ]
    },
    {
      "cell_type": "markdown",
      "source": [
        "# GGE-5405/6505 Big Data\n",
        "\n",
        "# **Intro to Python - Extended**\n",
        "\n",
        "\n",
        "\n",
        "---\n",
        "\n"
      ],
      "metadata": {
        "id": "AAxwaRDubBAW"
      }
    },
    {
      "cell_type": "markdown",
      "source": [
        "## Python Classes & Objects\n",
        "\n",
        "Complete the following tutorial: https://www.w3schools.com/python/python_classes.asp"
      ],
      "metadata": {
        "id": "ocnnzzETo3ma"
      }
    },
    {
      "cell_type": "markdown",
      "source": [
        "## Create a module\n",
        "\n",
        "Refresher: https://www.w3schools.com/python/python_modules.asp"
      ],
      "metadata": {
        "id": "wLdeT0vtitVv"
      }
    },
    {
      "cell_type": "markdown",
      "source": [
        "Add the following code to a file called \"mymodule.py\"\n",
        "\n",
        "```\n",
        "def greeting(name):\n",
        "  print(\"Hello, \" + name)\n",
        "```"
      ],
      "metadata": {
        "id": "FpiY5XoKjB-K"
      }
    },
    {
      "cell_type": "code",
      "source": [
        "# check to make sure module is in current directory\n",
        "!ls"
      ],
      "metadata": {
        "id": "IfoJlkqqaI8K"
      },
      "execution_count": null,
      "outputs": []
    },
    {
      "cell_type": "code",
      "source": [
        "# check contents of module from command line\n",
        "!cat mymodule.py "
      ],
      "metadata": {
        "id": "j4AjXIs6U55c"
      },
      "execution_count": null,
      "outputs": []
    },
    {
      "cell_type": "code",
      "execution_count": null,
      "metadata": {
        "id": "105U8J8Tf7TZ"
      },
      "outputs": [],
      "source": [
        "# import module from current workspace\n",
        "import mymodule"
      ]
    },
    {
      "cell_type": "code",
      "source": [
        "# call the function from mymodule\n",
        "mymodule.greeting(\"Kai\")"
      ],
      "metadata": {
        "id": "MB5s9tPwiUMr"
      },
      "execution_count": null,
      "outputs": []
    },
    {
      "cell_type": "code",
      "source": [
        "# create an alias\n",
        "import mymodule as m\n",
        "m.greeting(\"Kai\")"
      ],
      "metadata": {
        "id": "-eQgOWkEylQ5"
      },
      "execution_count": null,
      "outputs": []
    },
    {
      "cell_type": "code",
      "source": [
        "# import just greeting function from module\n",
        "from mymodule import greeting\n",
        "greeting(\"Kai\")"
      ],
      "metadata": {
        "id": "_DzgoNjNy1ML"
      },
      "execution_count": null,
      "outputs": []
    },
    {
      "cell_type": "markdown",
      "source": [
        "## Let's explore some useful modules and libraries!\n",
        "\n"
      ],
      "metadata": {
        "id": "gKqxBUJJ4oCr"
      }
    },
    {
      "cell_type": "markdown",
      "source": [
        "### JSON\n",
        "\n"
      ],
      "metadata": {
        "id": "mue3nablzN6V"
      }
    },
    {
      "cell_type": "markdown",
      "source": [
        "What is a python dictionary: https://www.w3schools.com/python/python_dictionaries.asp\n",
        "\n",
        "\n",
        "Complete the following JSON tutorial: https://www.w3schools.com/python/python_json.asp"
      ],
      "metadata": {
        "id": "UAFpCT5Dq12X"
      }
    },
    {
      "cell_type": "markdown",
      "source": [
        "Let's try it out:"
      ],
      "metadata": {
        "id": "lNoFH7l60KOf"
      }
    },
    {
      "cell_type": "code",
      "source": [
        "# create a python dictionary\n",
        "person1 = {\n",
        "  \"name\": \"John\",\n",
        "  \"age\": 36,\n",
        "  \"country\": \"Norway\"\n",
        "}\n",
        "type(person1)"
      ],
      "metadata": {
        "id": "GQ3eVYzg0Pxa"
      },
      "execution_count": null,
      "outputs": []
    },
    {
      "cell_type": "code",
      "source": [
        "import json\n",
        "\n",
        "# convert to json\n",
        "myjson = json.dumps(person1, indent=4)\n",
        "print(type(myjson))"
      ],
      "metadata": {
        "id": "TpFnBRma0l57"
      },
      "execution_count": null,
      "outputs": []
    },
    {
      "cell_type": "code",
      "source": [
        "myjson"
      ],
      "metadata": {
        "id": "kpaarOd0DfnY"
      },
      "execution_count": null,
      "outputs": []
    },
    {
      "cell_type": "code",
      "source": [
        "# write to file\n",
        "with open(\"person1.json\", \"w\") as f:\n",
        "  f.write(myjson)"
      ],
      "metadata": {
        "id": "Qi-znw2mwfAX"
      },
      "execution_count": null,
      "outputs": []
    },
    {
      "cell_type": "code",
      "source": [
        "# check contents\n",
        "!cat person1.json"
      ],
      "metadata": {
        "id": "B4rqGQTCo2Ws"
      },
      "execution_count": null,
      "outputs": []
    },
    {
      "cell_type": "code",
      "source": [
        "# create python file object from json file\n",
        "f = open(\"/content/sample_data/anscombe.json\")\n",
        "\n",
        "# create python list of dictionaries\n",
        "data = json.load(f)\n",
        "f.close()\n",
        "\n",
        "print(type(data))"
      ],
      "metadata": {
        "id": "ixVUV3XojNWb"
      },
      "execution_count": null,
      "outputs": []
    },
    {
      "cell_type": "code",
      "source": [
        "# extract first item from the list\n",
        "dict1 = data[0]\n",
        "print(type(dict1))"
      ],
      "metadata": {
        "id": "8p7yMTiQrGmN"
      },
      "execution_count": null,
      "outputs": []
    },
    {
      "cell_type": "code",
      "source": [
        "print(dict1.keys())"
      ],
      "metadata": {
        "id": "PnklrFkCrx2D"
      },
      "execution_count": null,
      "outputs": []
    },
    {
      "cell_type": "markdown",
      "source": [
        "### CSV\n",
        "\n",
        "Info about the module here: https://docs.python.org/3/library/csv.html#"
      ],
      "metadata": {
        "id": "PU38ZoD541XB"
      }
    },
    {
      "cell_type": "code",
      "source": [
        "# Use a shell command to get first 4 lines of the file\n",
        "!head -4 /content/sample_data/california_housing_test.csv"
      ],
      "metadata": {
        "id": "O4vL37NHMW0a"
      },
      "execution_count": null,
      "outputs": []
    },
    {
      "cell_type": "code",
      "source": [
        "# use csv module to read csv file\n",
        "import csv\n",
        "with open('sample_data/california_housing_test.csv', newline='') as csvfile:\n",
        "    reader = csv.reader(csvfile)\n",
        "    for row in reader:\n",
        "        print(', '.join(row))\n",
        "        #print(row)"
      ],
      "metadata": {
        "id": "GAVh667PeurR"
      },
      "execution_count": null,
      "outputs": []
    },
    {
      "cell_type": "code",
      "source": [
        "# use DictReader method to access information like a dictionary\n",
        "with open('sample_data/california_housing_test.csv', newline='') as csvfile:\n",
        "    reader = csv.DictReader(csvfile)\n",
        "    for row in reader:\n",
        "        print(row['longitude'], row['latitude'])\n"
      ],
      "metadata": {
        "id": "6JZqJHkbgsO3"
      },
      "execution_count": null,
      "outputs": []
    },
    {
      "cell_type": "code",
      "source": [
        "print(row)"
      ],
      "metadata": {
        "id": "fG3AEDLohHT1"
      },
      "execution_count": null,
      "outputs": []
    },
    {
      "cell_type": "code",
      "source": [
        "# write new csv file\n",
        "with open('names.csv', 'w', newline='') as csvfile:\n",
        "    fieldnames = ['first_name', 'last_name']\n",
        "    writer = csv.DictWriter(csvfile, fieldnames=fieldnames)\n",
        "\n",
        "    writer.writeheader()\n",
        "    writer.writerow({'first_name': 'Baked', 'last_name': 'Beans'})\n",
        "    writer.writerow({'first_name': 'Lovely', 'last_name': 'Spam'})\n",
        "    writer.writerow({'first_name': 'Wonderful', 'last_name': 'Spam'})"
      ],
      "metadata": {
        "id": "vWWVarQ2hi1n"
      },
      "execution_count": null,
      "outputs": []
    },
    {
      "cell_type": "code",
      "source": [
        "# we can use shell commands to zip files\n",
        "!zip names.zip names.csv"
      ],
      "metadata": {
        "id": "2JbLg9FRfj_z"
      },
      "execution_count": null,
      "outputs": []
    },
    {
      "cell_type": "code",
      "source": [
        "# and unzip files\n",
        "!unzip names.zip"
      ],
      "metadata": {
        "id": "5GJFpQsJgJoz"
      },
      "execution_count": null,
      "outputs": []
    },
    {
      "cell_type": "markdown",
      "source": [
        "### NumPy\n",
        "\n",
        "NumPy (Numerical Python) is python a library that provides efficient functions and methods for working with arrays. It is much, much faster than working with Python lists.\n",
        "\n",
        "Learn more: https://www.w3schools.com/python/numpy/default.asp\n",
        "\n",
        "Documentation: https://numpy.org/doc/stable/reference/arrays.html\n",
        "\n",
        "In the example below, we can create a NumPy array object (ndarray) using the array() function. We can create 0D, 1D, 2D, and 3D arrays."
      ],
      "metadata": {
        "id": "_UYvBcxM4rRq"
      }
    },
    {
      "cell_type": "code",
      "source": [
        "import numpy as np\n",
        "\n",
        "# 0-D\n",
        "a = np.array(42)\n",
        "\n",
        "# 1-D\n",
        "b = np.array([1, 2, 3, 4, 5, 6])\n",
        "\n",
        "# 2-D\n",
        "c = np.array([[1, 2, 3], [4, 5, 6]])\n",
        "\n",
        "# 3-D\n",
        "d = np.array([[[1.1, 1.2, 1.3], [1.4, 1.5, 1.6]], [[2.1, 2.2, 2.3], [2.4, 2.5, 2.6]]])\n",
        "\n",
        "# use ndim attribute to check number of dimensions\n",
        "print(a.ndim)\n",
        "print(b.ndim)\n",
        "print(c.ndim)\n",
        "print(d.ndim)"
      ],
      "metadata": {
        "id": "98k6YZ31GlfH"
      },
      "execution_count": null,
      "outputs": []
    },
    {
      "cell_type": "code",
      "source": [
        "# print the arrays\n",
        "print(\"------0D------\")\n",
        "print(a)\n",
        "print(\"\")\n",
        "print(\"------1D------\")\n",
        "print(b)\n",
        "print(\"\")\n",
        "print(\"------2D------\")\n",
        "print(c)\n",
        "print(\"\")\n",
        "print(\"------3D------\")\n",
        "print(d)"
      ],
      "metadata": {
        "id": "iaFNWR2hSYn0"
      },
      "execution_count": null,
      "outputs": []
    },
    {
      "cell_type": "code",
      "source": [
        "# Extract from 1-D \n",
        "print(f\"First element in 1D array: {b[0]}\")\n",
        "\n",
        "# Extract from 2-D (index order: [row,col])\n",
        "print(f\"Second element in first row in 2D array: {c[0,1]}\")\n",
        "\n",
        "# Extract from 3-D (index order: [dim,row,col])\n",
        "print(f\"Second element in 1st row of 2nd dimension in 3D array: {d[1,0,1]}\")"
      ],
      "metadata": {
        "id": "faptcK-hIf9H"
      },
      "execution_count": null,
      "outputs": []
    },
    {
      "cell_type": "code",
      "source": [
        "# Check the shape of each array\n",
        "print(a.shape) # 0D - return is empty\n",
        "print(b.shape) # 1D - returns number of elements\n",
        "print(c.shape) # 2D - returns row, col\n",
        "print(d.shape) # 3D - returns dim, row, col"
      ],
      "metadata": {
        "id": "PRFMUccgL6wI"
      },
      "execution_count": null,
      "outputs": []
    },
    {
      "cell_type": "code",
      "source": [
        "# reshape 1D to 2D\n",
        "print(b.reshape(2,3))"
      ],
      "metadata": {
        "id": "-c5zhUwbNPlE"
      },
      "execution_count": null,
      "outputs": []
    },
    {
      "cell_type": "code",
      "source": [
        "# flatten 3D to 1D\n",
        "print(d.reshape(-1))"
      ],
      "metadata": {
        "id": "4WdU-aAANzgc"
      },
      "execution_count": null,
      "outputs": []
    },
    {
      "cell_type": "code",
      "source": [
        "# Create an array using arange()\n",
        "# arange() generates numbers within specified range\n",
        "help(np.arange)"
      ],
      "metadata": {
        "id": "iPYIXFmwPAcl"
      },
      "execution_count": null,
      "outputs": []
    },
    {
      "cell_type": "code",
      "source": [
        "# create an array with arange()\n",
        "arr = np.arange(10).reshape(5,2)\n",
        "print(arr)"
      ],
      "metadata": {
        "id": "Q0wcPz63PO8b"
      },
      "execution_count": null,
      "outputs": []
    },
    {
      "cell_type": "code",
      "source": [
        "# Example: create a function to rescale an array\n",
        "\n",
        "def rescale(input_array):\n",
        "    L = np.min(input_array)\n",
        "    H = np.max(input_array)\n",
        "    output_array = (input_array - L) / (H - L) # normalize the array between 0 and 1\n",
        "    return output_array\n",
        "\n",
        "arr_rescale = rescale(arr)\n",
        "arr_rescale"
      ],
      "metadata": {
        "id": "FjDU552lQS7k"
      },
      "execution_count": null,
      "outputs": []
    }
  ]
}